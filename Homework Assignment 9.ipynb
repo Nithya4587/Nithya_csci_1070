{
 "cells": [
  {
   "cell_type": "code",
   "execution_count": 1,
   "id": "b2e02d37",
   "metadata": {},
   "outputs": [],
   "source": [
    "import pandas as pd\n",
    "import numpy as np\n",
    "import matplotlib.pyplot as plt\n",
    "import seaborn as sns"
   ]
  },
  {
   "cell_type": "code",
   "execution_count": 2,
   "id": "57d503af",
   "metadata": {},
   "outputs": [
    {
     "data": {
      "text/html": [
       "<div>\n",
       "<style scoped>\n",
       "    .dataframe tbody tr th:only-of-type {\n",
       "        vertical-align: middle;\n",
       "    }\n",
       "\n",
       "    .dataframe tbody tr th {\n",
       "        vertical-align: top;\n",
       "    }\n",
       "\n",
       "    .dataframe thead th {\n",
       "        text-align: right;\n",
       "    }\n",
       "</style>\n",
       "<table border=\"1\" class=\"dataframe\">\n",
       "  <thead>\n",
       "    <tr style=\"text-align: right;\">\n",
       "      <th></th>\n",
       "      <th>Ind_ID</th>\n",
       "      <th>GENDER</th>\n",
       "      <th>Car_Owner</th>\n",
       "      <th>Propert_Owner</th>\n",
       "      <th>CHILDREN</th>\n",
       "      <th>Annual_income</th>\n",
       "      <th>Type_Income</th>\n",
       "      <th>EDUCATION</th>\n",
       "      <th>Marital_status</th>\n",
       "      <th>Housing_type</th>\n",
       "      <th>Birthday_count</th>\n",
       "      <th>Employed_days</th>\n",
       "      <th>Mobile_phone</th>\n",
       "      <th>Work_Phone</th>\n",
       "      <th>Phone</th>\n",
       "      <th>EMAIL_ID</th>\n",
       "      <th>Type_Occupation</th>\n",
       "      <th>Family_Members</th>\n",
       "    </tr>\n",
       "  </thead>\n",
       "  <tbody>\n",
       "    <tr>\n",
       "      <th>0</th>\n",
       "      <td>5008827</td>\n",
       "      <td>M</td>\n",
       "      <td>Y</td>\n",
       "      <td>Y</td>\n",
       "      <td>0</td>\n",
       "      <td>180000.0</td>\n",
       "      <td>Pensioner</td>\n",
       "      <td>Higher education</td>\n",
       "      <td>Married</td>\n",
       "      <td>House / apartment</td>\n",
       "      <td>-18772.0</td>\n",
       "      <td>365243</td>\n",
       "      <td>1</td>\n",
       "      <td>0</td>\n",
       "      <td>0</td>\n",
       "      <td>0</td>\n",
       "      <td>NaN</td>\n",
       "      <td>2</td>\n",
       "    </tr>\n",
       "    <tr>\n",
       "      <th>1</th>\n",
       "      <td>5009744</td>\n",
       "      <td>F</td>\n",
       "      <td>Y</td>\n",
       "      <td>N</td>\n",
       "      <td>0</td>\n",
       "      <td>315000.0</td>\n",
       "      <td>Commercial associate</td>\n",
       "      <td>Higher education</td>\n",
       "      <td>Married</td>\n",
       "      <td>House / apartment</td>\n",
       "      <td>-13557.0</td>\n",
       "      <td>-586</td>\n",
       "      <td>1</td>\n",
       "      <td>1</td>\n",
       "      <td>1</td>\n",
       "      <td>0</td>\n",
       "      <td>NaN</td>\n",
       "      <td>2</td>\n",
       "    </tr>\n",
       "    <tr>\n",
       "      <th>2</th>\n",
       "      <td>5009746</td>\n",
       "      <td>F</td>\n",
       "      <td>Y</td>\n",
       "      <td>N</td>\n",
       "      <td>0</td>\n",
       "      <td>315000.0</td>\n",
       "      <td>Commercial associate</td>\n",
       "      <td>Higher education</td>\n",
       "      <td>Married</td>\n",
       "      <td>House / apartment</td>\n",
       "      <td>NaN</td>\n",
       "      <td>-586</td>\n",
       "      <td>1</td>\n",
       "      <td>1</td>\n",
       "      <td>1</td>\n",
       "      <td>0</td>\n",
       "      <td>NaN</td>\n",
       "      <td>2</td>\n",
       "    </tr>\n",
       "    <tr>\n",
       "      <th>3</th>\n",
       "      <td>5009749</td>\n",
       "      <td>F</td>\n",
       "      <td>Y</td>\n",
       "      <td>N</td>\n",
       "      <td>0</td>\n",
       "      <td>NaN</td>\n",
       "      <td>Commercial associate</td>\n",
       "      <td>Higher education</td>\n",
       "      <td>Married</td>\n",
       "      <td>House / apartment</td>\n",
       "      <td>-13557.0</td>\n",
       "      <td>-586</td>\n",
       "      <td>1</td>\n",
       "      <td>1</td>\n",
       "      <td>1</td>\n",
       "      <td>0</td>\n",
       "      <td>NaN</td>\n",
       "      <td>2</td>\n",
       "    </tr>\n",
       "    <tr>\n",
       "      <th>4</th>\n",
       "      <td>5009752</td>\n",
       "      <td>F</td>\n",
       "      <td>Y</td>\n",
       "      <td>N</td>\n",
       "      <td>0</td>\n",
       "      <td>315000.0</td>\n",
       "      <td>Commercial associate</td>\n",
       "      <td>Higher education</td>\n",
       "      <td>Married</td>\n",
       "      <td>House / apartment</td>\n",
       "      <td>-13557.0</td>\n",
       "      <td>-586</td>\n",
       "      <td>1</td>\n",
       "      <td>1</td>\n",
       "      <td>1</td>\n",
       "      <td>0</td>\n",
       "      <td>NaN</td>\n",
       "      <td>2</td>\n",
       "    </tr>\n",
       "  </tbody>\n",
       "</table>\n",
       "</div>"
      ],
      "text/plain": [
       "    Ind_ID GENDER Car_Owner Propert_Owner  CHILDREN  Annual_income  \\\n",
       "0  5008827      M         Y             Y         0       180000.0   \n",
       "1  5009744      F         Y             N         0       315000.0   \n",
       "2  5009746      F         Y             N         0       315000.0   \n",
       "3  5009749      F         Y             N         0            NaN   \n",
       "4  5009752      F         Y             N         0       315000.0   \n",
       "\n",
       "            Type_Income         EDUCATION Marital_status       Housing_type  \\\n",
       "0             Pensioner  Higher education        Married  House / apartment   \n",
       "1  Commercial associate  Higher education        Married  House / apartment   \n",
       "2  Commercial associate  Higher education        Married  House / apartment   \n",
       "3  Commercial associate  Higher education        Married  House / apartment   \n",
       "4  Commercial associate  Higher education        Married  House / apartment   \n",
       "\n",
       "   Birthday_count  Employed_days  Mobile_phone  Work_Phone  Phone  EMAIL_ID  \\\n",
       "0        -18772.0         365243             1           0      0         0   \n",
       "1        -13557.0           -586             1           1      1         0   \n",
       "2             NaN           -586             1           1      1         0   \n",
       "3        -13557.0           -586             1           1      1         0   \n",
       "4        -13557.0           -586             1           1      1         0   \n",
       "\n",
       "  Type_Occupation  Family_Members  \n",
       "0             NaN               2  \n",
       "1             NaN               2  \n",
       "2             NaN               2  \n",
       "3             NaN               2  \n",
       "4             NaN               2  "
      ]
     },
     "execution_count": 2,
     "metadata": {},
     "output_type": "execute_result"
    }
   ],
   "source": [
    "credit_df = pd.read_csv('Credit_card.csv')\n",
    "credit_df.head()"
   ]
  },
  {
   "cell_type": "code",
   "execution_count": 3,
   "id": "eda27f35",
   "metadata": {},
   "outputs": [
    {
     "data": {
      "text/html": [
       "<div>\n",
       "<style scoped>\n",
       "    .dataframe tbody tr th:only-of-type {\n",
       "        vertical-align: middle;\n",
       "    }\n",
       "\n",
       "    .dataframe tbody tr th {\n",
       "        vertical-align: top;\n",
       "    }\n",
       "\n",
       "    .dataframe thead th {\n",
       "        text-align: right;\n",
       "    }\n",
       "</style>\n",
       "<table border=\"1\" class=\"dataframe\">\n",
       "  <thead>\n",
       "    <tr style=\"text-align: right;\">\n",
       "      <th></th>\n",
       "      <th>Ind_ID</th>\n",
       "      <th>Gender</th>\n",
       "      <th>Car_Owner</th>\n",
       "      <th>Propert_Owner</th>\n",
       "      <th>Children</th>\n",
       "      <th>Annual_income</th>\n",
       "      <th>Type_Income</th>\n",
       "      <th>Education</th>\n",
       "      <th>Marital_status</th>\n",
       "      <th>Housing_type</th>\n",
       "      <th>Birthday_count</th>\n",
       "      <th>Employed_days</th>\n",
       "      <th>Mobile_phone</th>\n",
       "      <th>Work_Phone</th>\n",
       "      <th>Phone</th>\n",
       "      <th>EMAIL_ID</th>\n",
       "      <th>Type_Occupation</th>\n",
       "      <th>Family_Members</th>\n",
       "    </tr>\n",
       "  </thead>\n",
       "  <tbody>\n",
       "    <tr>\n",
       "      <th>0</th>\n",
       "      <td>5008827</td>\n",
       "      <td>M</td>\n",
       "      <td>Y</td>\n",
       "      <td>Y</td>\n",
       "      <td>0</td>\n",
       "      <td>180000.0</td>\n",
       "      <td>Pensioner</td>\n",
       "      <td>Higher education</td>\n",
       "      <td>Married</td>\n",
       "      <td>House / apartment</td>\n",
       "      <td>-18772.0</td>\n",
       "      <td>365243</td>\n",
       "      <td>1</td>\n",
       "      <td>0</td>\n",
       "      <td>0</td>\n",
       "      <td>0</td>\n",
       "      <td>NaN</td>\n",
       "      <td>2</td>\n",
       "    </tr>\n",
       "    <tr>\n",
       "      <th>1</th>\n",
       "      <td>5009744</td>\n",
       "      <td>F</td>\n",
       "      <td>Y</td>\n",
       "      <td>N</td>\n",
       "      <td>0</td>\n",
       "      <td>315000.0</td>\n",
       "      <td>Commercial associate</td>\n",
       "      <td>Higher education</td>\n",
       "      <td>Married</td>\n",
       "      <td>House / apartment</td>\n",
       "      <td>-13557.0</td>\n",
       "      <td>-586</td>\n",
       "      <td>1</td>\n",
       "      <td>1</td>\n",
       "      <td>1</td>\n",
       "      <td>0</td>\n",
       "      <td>NaN</td>\n",
       "      <td>2</td>\n",
       "    </tr>\n",
       "    <tr>\n",
       "      <th>2</th>\n",
       "      <td>5009746</td>\n",
       "      <td>F</td>\n",
       "      <td>Y</td>\n",
       "      <td>N</td>\n",
       "      <td>0</td>\n",
       "      <td>315000.0</td>\n",
       "      <td>Commercial associate</td>\n",
       "      <td>Higher education</td>\n",
       "      <td>Married</td>\n",
       "      <td>House / apartment</td>\n",
       "      <td>NaN</td>\n",
       "      <td>-586</td>\n",
       "      <td>1</td>\n",
       "      <td>1</td>\n",
       "      <td>1</td>\n",
       "      <td>0</td>\n",
       "      <td>NaN</td>\n",
       "      <td>2</td>\n",
       "    </tr>\n",
       "    <tr>\n",
       "      <th>3</th>\n",
       "      <td>5009749</td>\n",
       "      <td>F</td>\n",
       "      <td>Y</td>\n",
       "      <td>N</td>\n",
       "      <td>0</td>\n",
       "      <td>NaN</td>\n",
       "      <td>Commercial associate</td>\n",
       "      <td>Higher education</td>\n",
       "      <td>Married</td>\n",
       "      <td>House / apartment</td>\n",
       "      <td>-13557.0</td>\n",
       "      <td>-586</td>\n",
       "      <td>1</td>\n",
       "      <td>1</td>\n",
       "      <td>1</td>\n",
       "      <td>0</td>\n",
       "      <td>NaN</td>\n",
       "      <td>2</td>\n",
       "    </tr>\n",
       "    <tr>\n",
       "      <th>4</th>\n",
       "      <td>5009752</td>\n",
       "      <td>F</td>\n",
       "      <td>Y</td>\n",
       "      <td>N</td>\n",
       "      <td>0</td>\n",
       "      <td>315000.0</td>\n",
       "      <td>Commercial associate</td>\n",
       "      <td>Higher education</td>\n",
       "      <td>Married</td>\n",
       "      <td>House / apartment</td>\n",
       "      <td>-13557.0</td>\n",
       "      <td>-586</td>\n",
       "      <td>1</td>\n",
       "      <td>1</td>\n",
       "      <td>1</td>\n",
       "      <td>0</td>\n",
       "      <td>NaN</td>\n",
       "      <td>2</td>\n",
       "    </tr>\n",
       "  </tbody>\n",
       "</table>\n",
       "</div>"
      ],
      "text/plain": [
       "    Ind_ID Gender Car_Owner Propert_Owner  Children  Annual_income  \\\n",
       "0  5008827      M         Y             Y         0       180000.0   \n",
       "1  5009744      F         Y             N         0       315000.0   \n",
       "2  5009746      F         Y             N         0       315000.0   \n",
       "3  5009749      F         Y             N         0            NaN   \n",
       "4  5009752      F         Y             N         0       315000.0   \n",
       "\n",
       "            Type_Income         Education Marital_status       Housing_type  \\\n",
       "0             Pensioner  Higher education        Married  House / apartment   \n",
       "1  Commercial associate  Higher education        Married  House / apartment   \n",
       "2  Commercial associate  Higher education        Married  House / apartment   \n",
       "3  Commercial associate  Higher education        Married  House / apartment   \n",
       "4  Commercial associate  Higher education        Married  House / apartment   \n",
       "\n",
       "   Birthday_count  Employed_days  Mobile_phone  Work_Phone  Phone  EMAIL_ID  \\\n",
       "0        -18772.0         365243             1           0      0         0   \n",
       "1        -13557.0           -586             1           1      1         0   \n",
       "2             NaN           -586             1           1      1         0   \n",
       "3        -13557.0           -586             1           1      1         0   \n",
       "4        -13557.0           -586             1           1      1         0   \n",
       "\n",
       "  Type_Occupation  Family_Members  \n",
       "0             NaN               2  \n",
       "1             NaN               2  \n",
       "2             NaN               2  \n",
       "3             NaN               2  \n",
       "4             NaN               2  "
      ]
     },
     "execution_count": 3,
     "metadata": {},
     "output_type": "execute_result"
    }
   ],
   "source": [
    "#1\n",
    "# I imporved on the column names so that they look more uniform by converting the all capital column names \n",
    "# to proper names.\n",
    "credit_df.columns = credit_df.columns.str.replace(\"EDUCATION\",\"Education\")\n",
    "credit_df.columns = credit_df.columns.str.replace(\"CHILDREN\",\"Children\")\n",
    "credit_df.columns = credit_df.columns.str.replace(\"GENDER\",\"Gender\")\n",
    "credit_df.head()"
   ]
  },
  {
   "cell_type": "code",
   "execution_count": 4,
   "id": "00496f9f",
   "metadata": {},
   "outputs": [
    {
     "data": {
      "text/html": [
       "<div>\n",
       "<style scoped>\n",
       "    .dataframe tbody tr th:only-of-type {\n",
       "        vertical-align: middle;\n",
       "    }\n",
       "\n",
       "    .dataframe tbody tr th {\n",
       "        vertical-align: top;\n",
       "    }\n",
       "\n",
       "    .dataframe thead th {\n",
       "        text-align: right;\n",
       "    }\n",
       "</style>\n",
       "<table border=\"1\" class=\"dataframe\">\n",
       "  <thead>\n",
       "    <tr style=\"text-align: right;\">\n",
       "      <th></th>\n",
       "      <th>Ind_ID</th>\n",
       "      <th>Gender</th>\n",
       "      <th>Car_Owner</th>\n",
       "      <th>Propert_Owner</th>\n",
       "      <th>Children</th>\n",
       "      <th>Annual_income</th>\n",
       "      <th>Type_Income</th>\n",
       "      <th>Education</th>\n",
       "      <th>Marital_status</th>\n",
       "      <th>Housing_type</th>\n",
       "      <th>Birthday_count</th>\n",
       "      <th>Employed_days</th>\n",
       "      <th>Mobile_phone</th>\n",
       "      <th>Work_Phone</th>\n",
       "      <th>Phone</th>\n",
       "      <th>EMAIL_ID</th>\n",
       "      <th>Type_Occupation</th>\n",
       "      <th>Family_Members</th>\n",
       "      <th>Education_type</th>\n",
       "    </tr>\n",
       "  </thead>\n",
       "  <tbody>\n",
       "    <tr>\n",
       "      <th>0</th>\n",
       "      <td>5008827</td>\n",
       "      <td>M</td>\n",
       "      <td>Y</td>\n",
       "      <td>Y</td>\n",
       "      <td>0</td>\n",
       "      <td>180000.0</td>\n",
       "      <td>Pensioner</td>\n",
       "      <td>Higher education</td>\n",
       "      <td>Married</td>\n",
       "      <td>House / apartment</td>\n",
       "      <td>-18772.0</td>\n",
       "      <td>365243</td>\n",
       "      <td>1</td>\n",
       "      <td>0</td>\n",
       "      <td>0</td>\n",
       "      <td>0</td>\n",
       "      <td>NaN</td>\n",
       "      <td>2</td>\n",
       "      <td>1</td>\n",
       "    </tr>\n",
       "    <tr>\n",
       "      <th>1</th>\n",
       "      <td>5009744</td>\n",
       "      <td>F</td>\n",
       "      <td>Y</td>\n",
       "      <td>N</td>\n",
       "      <td>0</td>\n",
       "      <td>315000.0</td>\n",
       "      <td>Commercial associate</td>\n",
       "      <td>Higher education</td>\n",
       "      <td>Married</td>\n",
       "      <td>House / apartment</td>\n",
       "      <td>-13557.0</td>\n",
       "      <td>-586</td>\n",
       "      <td>1</td>\n",
       "      <td>1</td>\n",
       "      <td>1</td>\n",
       "      <td>0</td>\n",
       "      <td>NaN</td>\n",
       "      <td>2</td>\n",
       "      <td>1</td>\n",
       "    </tr>\n",
       "    <tr>\n",
       "      <th>2</th>\n",
       "      <td>5009746</td>\n",
       "      <td>F</td>\n",
       "      <td>Y</td>\n",
       "      <td>N</td>\n",
       "      <td>0</td>\n",
       "      <td>315000.0</td>\n",
       "      <td>Commercial associate</td>\n",
       "      <td>Higher education</td>\n",
       "      <td>Married</td>\n",
       "      <td>House / apartment</td>\n",
       "      <td>NaN</td>\n",
       "      <td>-586</td>\n",
       "      <td>1</td>\n",
       "      <td>1</td>\n",
       "      <td>1</td>\n",
       "      <td>0</td>\n",
       "      <td>NaN</td>\n",
       "      <td>2</td>\n",
       "      <td>1</td>\n",
       "    </tr>\n",
       "    <tr>\n",
       "      <th>3</th>\n",
       "      <td>5009749</td>\n",
       "      <td>F</td>\n",
       "      <td>Y</td>\n",
       "      <td>N</td>\n",
       "      <td>0</td>\n",
       "      <td>NaN</td>\n",
       "      <td>Commercial associate</td>\n",
       "      <td>Higher education</td>\n",
       "      <td>Married</td>\n",
       "      <td>House / apartment</td>\n",
       "      <td>-13557.0</td>\n",
       "      <td>-586</td>\n",
       "      <td>1</td>\n",
       "      <td>1</td>\n",
       "      <td>1</td>\n",
       "      <td>0</td>\n",
       "      <td>NaN</td>\n",
       "      <td>2</td>\n",
       "      <td>1</td>\n",
       "    </tr>\n",
       "    <tr>\n",
       "      <th>4</th>\n",
       "      <td>5009752</td>\n",
       "      <td>F</td>\n",
       "      <td>Y</td>\n",
       "      <td>N</td>\n",
       "      <td>0</td>\n",
       "      <td>315000.0</td>\n",
       "      <td>Commercial associate</td>\n",
       "      <td>Higher education</td>\n",
       "      <td>Married</td>\n",
       "      <td>House / apartment</td>\n",
       "      <td>-13557.0</td>\n",
       "      <td>-586</td>\n",
       "      <td>1</td>\n",
       "      <td>1</td>\n",
       "      <td>1</td>\n",
       "      <td>0</td>\n",
       "      <td>NaN</td>\n",
       "      <td>2</td>\n",
       "      <td>1</td>\n",
       "    </tr>\n",
       "  </tbody>\n",
       "</table>\n",
       "</div>"
      ],
      "text/plain": [
       "    Ind_ID Gender Car_Owner Propert_Owner  Children  Annual_income  \\\n",
       "0  5008827      M         Y             Y         0       180000.0   \n",
       "1  5009744      F         Y             N         0       315000.0   \n",
       "2  5009746      F         Y             N         0       315000.0   \n",
       "3  5009749      F         Y             N         0            NaN   \n",
       "4  5009752      F         Y             N         0       315000.0   \n",
       "\n",
       "            Type_Income         Education Marital_status       Housing_type  \\\n",
       "0             Pensioner  Higher education        Married  House / apartment   \n",
       "1  Commercial associate  Higher education        Married  House / apartment   \n",
       "2  Commercial associate  Higher education        Married  House / apartment   \n",
       "3  Commercial associate  Higher education        Married  House / apartment   \n",
       "4  Commercial associate  Higher education        Married  House / apartment   \n",
       "\n",
       "   Birthday_count  Employed_days  Mobile_phone  Work_Phone  Phone  EMAIL_ID  \\\n",
       "0        -18772.0         365243             1           0      0         0   \n",
       "1        -13557.0           -586             1           1      1         0   \n",
       "2             NaN           -586             1           1      1         0   \n",
       "3        -13557.0           -586             1           1      1         0   \n",
       "4        -13557.0           -586             1           1      1         0   \n",
       "\n",
       "  Type_Occupation  Family_Members  Education_type  \n",
       "0             NaN               2               1  \n",
       "1             NaN               2               1  \n",
       "2             NaN               2               1  \n",
       "3             NaN               2               1  \n",
       "4             NaN               2               1  "
      ]
     },
     "execution_count": 4,
     "metadata": {},
     "output_type": "execute_result"
    }
   ],
   "source": [
    "# Another thing I did was encode the different education levels with its label and thereby \n",
    "# converting to numerical values.\n",
    "from sklearn.preprocessing import LabelEncoder\n",
    "class_labels = LabelEncoder()\n",
    "credit_df['Education_type'] = class_labels.fit_transform(credit_df['Education'].values)\n",
    "credit_df.head()"
   ]
  },
  {
   "cell_type": "code",
   "execution_count": 5,
   "id": "210ecbad",
   "metadata": {},
   "outputs": [],
   "source": [
    "#2\n",
    "from sklearn.linear_model import LogisticRegression\n",
    "from sklearn.model_selection import train_test_split\n",
    "from sklearn.preprocessing import StandardScaler\n",
    "\n",
    "X = credit_df.drop('Education_type', axis=1)\n",
    "y = credit_df['Education_type']\n",
    "\n",
    "X_train, X_test, y_train, y_test = train_test_split(X,y, \n",
    "                                                   test_size=0.3, \n",
    "                                                   random_state=32)"
   ]
  },
  {
   "cell_type": "code",
   "execution_count": 6,
   "id": "23218589",
   "metadata": {},
   "outputs": [
    {
     "name": "stdout",
     "output_type": "stream",
     "text": [
      "[1 4 4 1 4 4 4 1 4 1 4 4 1 1 4 4 4 4 1 4 4 4 4 1 4 1 4 1 4 4 1 4 4 1 4 4 4\n",
      " 4 4 4 1 4 1 4 1 4 4 4 4 4 1 4 4 4 4 4 1 4 4 4 4 4 1 4 1 1 1 4 4 4 1 4 1 4\n",
      " 4 4 4 4 1 4 1 1 4 1 4 1 1 1 1 4 1 4 1 1 4 1 4 1 4 4 4 4 4 4 4 4 4 4 4 4 4\n",
      " 4 4 4 4 4 4 4 1 4 4 4 4 4 4 1 4 4 1 4 4 1 4 1 1 4 4 4 4 1 1 1 4 4 1 4 1 4\n",
      " 4 4 4 4 1 1 4 4 4 4 4 1 4 4 1 4 1 4 4 4 4 4 4 1 4 4 4 4 4 4 1 4 4 4 4 1 1\n",
      " 4 1 4 4 1 1 4 1 4 1 4 1 1 4 1 1 4 4 4 1 4 4 1 4 1 4 4 4 4 4 4 4 4 4 1 4 4\n",
      " 1 4 4 4 1 1 4 4 4 4 1 4 1 4 4 4 4 4 1 4 4 4 4 1 4 4 4 4 1 4 4 4 4 4 4 4 4\n",
      " 4 4 4 4 1 1 4 4 4 4 4 4 1 4 4 4 4 4 4 4 4 4 4 4 4 4 4 4 4 1 4 4 4 4 4 4 4\n",
      " 4 1 4 4 1 4 1 4 4 4 1 1 4 1 4 4 1 1 4 1 4 4 1 4 1 4 4 1 1 4 4 1 4 4 4 4 4\n",
      " 4 4 1 4 1 4 4 4 1 1 1 4 4 4 4 4 1 4 4 4 4 1 4 1 4 4 4 4 4 1 1 4 4 1 1 4 4\n",
      " 4 4 1 1 1 4 4 4 1 4 4 1 4 1 4 4 4 4 1 4 4 1 4 4 1 4 1 4 4 4 4 1 4 4 4 1 1\n",
      " 1 1 4 4 4 1 1 4 4 4 1 4 4 1 4 1 1 4 4 4 4 1 1 4 4 1 4 4 1 4 1 4 4 4 4 1 4\n",
      " 4 1 1 4 4 4 1 4 4 4 1 4 4 1 4 4 4 4 1 4 4]\n",
      "<class 'numpy.ndarray'>\n"
     ]
    }
   ],
   "source": [
    "from sklearn.neighbors import KNeighborsClassifier\n",
    "\n",
    "X = credit_df.drop(['Gender','Car_Owner','Propert_Owner','Type_Income','Education','Marital_status','Housing_type','Type_Occupation','Annual_income','Birthday_count'], axis = 1)\n",
    "y = credit_df['Education_type']\n",
    "\n",
    "X_train, X_test, y_train, y_test = train_test_split(X,y, test_size = 0.3, random_state =32)\n",
    "\n",
    "sc = StandardScaler()\n",
    "X_train = sc.fit_transform(X_train)\n",
    "X_test = sc.fit_transform(X_test)\n",
    "\n",
    "knn = KNeighborsClassifier(n_neighbors=13)\n",
    "knn.fit(X_train, y_train)\n",
    "\n",
    "y_predict = knn.predict(X_test)\n",
    "print(y_predict)\n",
    "print(type(y_predict))"
   ]
  },
  {
   "cell_type": "code",
   "execution_count": 7,
   "id": "c0f24f36",
   "metadata": {},
   "outputs": [
    {
     "name": "stdout",
     "output_type": "stream",
     "text": [
      "0.9440860215053763\n"
     ]
    }
   ],
   "source": [
    "print(knn.score(X_test, y_test))"
   ]
  },
  {
   "cell_type": "code",
   "execution_count": 8,
   "id": "01b88edc",
   "metadata": {},
   "outputs": [],
   "source": [
    "regression = LogisticRegression(random_state=32).fit(X_train, y_train)\n",
    "y_predicted = regression.predict(X_test)"
   ]
  },
  {
   "cell_type": "code",
   "execution_count": 9,
   "id": "8074960d",
   "metadata": {},
   "outputs": [
    {
     "data": {
      "text/plain": [
       "array([1, 4, 4, 1, 4, 4, 4, 1, 4, 1, 4, 4, 1, 2, 4, 4, 4, 4, 1, 4, 4, 4,\n",
       "       4, 1, 4, 1, 4, 1, 4, 4, 1, 4, 4, 1, 4, 4, 4, 4, 4, 4, 1, 4, 1, 4,\n",
       "       1, 4, 4, 4, 4, 4, 1, 4, 4, 4, 4, 4, 1, 4, 4, 4, 4, 4, 1, 4, 1, 1,\n",
       "       1, 4, 4, 4, 1, 4, 1, 4, 4, 4, 4, 4, 2, 4, 1, 1, 4, 1, 4, 1, 1, 1,\n",
       "       1, 4, 1, 4, 1, 1, 4, 1, 4, 1, 4, 4, 4, 4, 4, 4, 4, 4, 4, 4, 4, 4,\n",
       "       4, 4, 4, 4, 4, 4, 4, 4, 2, 4, 4, 4, 4, 4, 4, 1, 4, 4, 1, 4, 4, 1,\n",
       "       4, 1, 1, 4, 4, 4, 4, 1, 1, 1, 4, 4, 1, 4, 1, 4, 4, 4, 4, 4, 1, 1,\n",
       "       4, 4, 4, 1, 4, 1, 4, 4, 1, 4, 1, 4, 4, 4, 4, 4, 4, 1, 4, 4, 4, 4,\n",
       "       4, 4, 1, 4, 4, 4, 4, 1, 1, 4, 1, 4, 4, 2, 2, 4, 1, 4, 1, 4, 1, 1,\n",
       "       4, 1, 2, 4, 4, 4, 1, 4, 4, 2, 4, 2, 4, 4, 4, 4, 4, 4, 4, 4, 4, 1,\n",
       "       4, 4, 1, 4, 4, 4, 2, 1, 4, 4, 4, 4, 1, 4, 1, 4, 4, 4, 4, 4, 1, 4,\n",
       "       4, 4, 4, 1, 4, 4, 4, 4, 2, 4, 4, 4, 4, 4, 4, 4, 4, 4, 4, 4, 4, 1,\n",
       "       1, 4, 4, 4, 4, 4, 4, 1, 4, 4, 4, 4, 4, 4, 4, 4, 4, 4, 4, 4, 4, 4,\n",
       "       4, 4, 1, 4, 4, 4, 4, 4, 4, 4, 4, 1, 4, 4, 1, 4, 1, 4, 4, 4, 1, 1,\n",
       "       4, 1, 4, 4, 2, 1, 4, 1, 4, 4, 1, 4, 1, 4, 4, 1, 1, 4, 4, 1, 4, 4,\n",
       "       4, 4, 4, 4, 4, 1, 4, 1, 4, 4, 4, 1, 2, 1, 4, 4, 4, 4, 4, 1, 4, 4,\n",
       "       4, 4, 1, 4, 1, 4, 4, 4, 4, 4, 1, 1, 4, 4, 1, 1, 4, 4, 4, 4, 1, 1,\n",
       "       1, 4, 4, 4, 1, 4, 4, 1, 4, 1, 4, 4, 4, 4, 1, 4, 4, 1, 4, 4, 1, 4,\n",
       "       1, 4, 4, 4, 4, 1, 4, 4, 4, 1, 2, 2, 1, 4, 4, 4, 1, 1, 4, 4, 4, 2,\n",
       "       4, 4, 1, 4, 1, 1, 4, 4, 4, 4, 1, 1, 4, 4, 1, 4, 4, 1, 4, 1, 4, 4,\n",
       "       4, 4, 1, 4, 4, 1, 1, 4, 4, 4, 1, 4, 4, 4, 2, 4, 4, 1, 4, 4, 4, 4,\n",
       "       1, 4, 4])"
      ]
     },
     "execution_count": 9,
     "metadata": {},
     "output_type": "execute_result"
    }
   ],
   "source": [
    "y_predicted"
   ]
  },
  {
   "cell_type": "code",
   "execution_count": 10,
   "id": "f3ce9828",
   "metadata": {},
   "outputs": [
    {
     "data": {
      "text/plain": [
       "0.9806451612903225"
      ]
     },
     "execution_count": 10,
     "metadata": {},
     "output_type": "execute_result"
    }
   ],
   "source": [
    "regression.score(X_test, y_test)"
   ]
  },
  {
   "cell_type": "code",
   "execution_count": 11,
   "id": "4050a7d0",
   "metadata": {},
   "outputs": [],
   "source": [
    "from imblearn.over_sampling import RandomOverSampler\n",
    "\n",
    "ros = RandomOverSampler(random_state=32)\n",
    "X_resampled, y_resampled = ros.fit_resample(X_train, y_train)"
   ]
  },
  {
   "cell_type": "code",
   "execution_count": 12,
   "id": "516c4106",
   "metadata": {},
   "outputs": [
    {
     "data": {
      "text/html": [
       "<style>#sk-container-id-1 {color: black;background-color: white;}#sk-container-id-1 pre{padding: 0;}#sk-container-id-1 div.sk-toggleable {background-color: white;}#sk-container-id-1 label.sk-toggleable__label {cursor: pointer;display: block;width: 100%;margin-bottom: 0;padding: 0.3em;box-sizing: border-box;text-align: center;}#sk-container-id-1 label.sk-toggleable__label-arrow:before {content: \"▸\";float: left;margin-right: 0.25em;color: #696969;}#sk-container-id-1 label.sk-toggleable__label-arrow:hover:before {color: black;}#sk-container-id-1 div.sk-estimator:hover label.sk-toggleable__label-arrow:before {color: black;}#sk-container-id-1 div.sk-toggleable__content {max-height: 0;max-width: 0;overflow: hidden;text-align: left;background-color: #f0f8ff;}#sk-container-id-1 div.sk-toggleable__content pre {margin: 0.2em;color: black;border-radius: 0.25em;background-color: #f0f8ff;}#sk-container-id-1 input.sk-toggleable__control:checked~div.sk-toggleable__content {max-height: 200px;max-width: 100%;overflow: auto;}#sk-container-id-1 input.sk-toggleable__control:checked~label.sk-toggleable__label-arrow:before {content: \"▾\";}#sk-container-id-1 div.sk-estimator input.sk-toggleable__control:checked~label.sk-toggleable__label {background-color: #d4ebff;}#sk-container-id-1 div.sk-label input.sk-toggleable__control:checked~label.sk-toggleable__label {background-color: #d4ebff;}#sk-container-id-1 input.sk-hidden--visually {border: 0;clip: rect(1px 1px 1px 1px);clip: rect(1px, 1px, 1px, 1px);height: 1px;margin: -1px;overflow: hidden;padding: 0;position: absolute;width: 1px;}#sk-container-id-1 div.sk-estimator {font-family: monospace;background-color: #f0f8ff;border: 1px dotted black;border-radius: 0.25em;box-sizing: border-box;margin-bottom: 0.5em;}#sk-container-id-1 div.sk-estimator:hover {background-color: #d4ebff;}#sk-container-id-1 div.sk-parallel-item::after {content: \"\";width: 100%;border-bottom: 1px solid gray;flex-grow: 1;}#sk-container-id-1 div.sk-label:hover label.sk-toggleable__label {background-color: #d4ebff;}#sk-container-id-1 div.sk-serial::before {content: \"\";position: absolute;border-left: 1px solid gray;box-sizing: border-box;top: 0;bottom: 0;left: 50%;z-index: 0;}#sk-container-id-1 div.sk-serial {display: flex;flex-direction: column;align-items: center;background-color: white;padding-right: 0.2em;padding-left: 0.2em;position: relative;}#sk-container-id-1 div.sk-item {position: relative;z-index: 1;}#sk-container-id-1 div.sk-parallel {display: flex;align-items: stretch;justify-content: center;background-color: white;position: relative;}#sk-container-id-1 div.sk-item::before, #sk-container-id-1 div.sk-parallel-item::before {content: \"\";position: absolute;border-left: 1px solid gray;box-sizing: border-box;top: 0;bottom: 0;left: 50%;z-index: -1;}#sk-container-id-1 div.sk-parallel-item {display: flex;flex-direction: column;z-index: 1;position: relative;background-color: white;}#sk-container-id-1 div.sk-parallel-item:first-child::after {align-self: flex-end;width: 50%;}#sk-container-id-1 div.sk-parallel-item:last-child::after {align-self: flex-start;width: 50%;}#sk-container-id-1 div.sk-parallel-item:only-child::after {width: 0;}#sk-container-id-1 div.sk-dashed-wrapped {border: 1px dashed gray;margin: 0 0.4em 0.5em 0.4em;box-sizing: border-box;padding-bottom: 0.4em;background-color: white;}#sk-container-id-1 div.sk-label label {font-family: monospace;font-weight: bold;display: inline-block;line-height: 1.2em;}#sk-container-id-1 div.sk-label-container {text-align: center;}#sk-container-id-1 div.sk-container {/* jupyter's `normalize.less` sets `[hidden] { display: none; }` but bootstrap.min.css set `[hidden] { display: none !important; }` so we also need the `!important` here to be able to override the default hidden behavior on the sphinx rendered scikit-learn.org. See: https://github.com/scikit-learn/scikit-learn/issues/21755 */display: inline-block !important;position: relative;}#sk-container-id-1 div.sk-text-repr-fallback {display: none;}</style><div id=\"sk-container-id-1\" class=\"sk-top-container\"><div class=\"sk-text-repr-fallback\"><pre>LogisticRegression(random_state=32)</pre><b>In a Jupyter environment, please rerun this cell to show the HTML representation or trust the notebook. <br />On GitHub, the HTML representation is unable to render, please try loading this page with nbviewer.org.</b></div><div class=\"sk-container\" hidden><div class=\"sk-item\"><div class=\"sk-estimator sk-toggleable\"><input class=\"sk-toggleable__control sk-hidden--visually\" id=\"sk-estimator-id-1\" type=\"checkbox\" checked><label for=\"sk-estimator-id-1\" class=\"sk-toggleable__label sk-toggleable__label-arrow\">LogisticRegression</label><div class=\"sk-toggleable__content\"><pre>LogisticRegression(random_state=32)</pre></div></div></div></div></div>"
      ],
      "text/plain": [
       "LogisticRegression(random_state=32)"
      ]
     },
     "execution_count": 12,
     "metadata": {},
     "output_type": "execute_result"
    }
   ],
   "source": [
    "model = LogisticRegression(random_state=32)\n",
    "model.fit(X_resampled, y_resampled)"
   ]
  },
  {
   "cell_type": "code",
   "execution_count": 13,
   "id": "e43d36b1",
   "metadata": {},
   "outputs": [],
   "source": [
    "y_pred = model.predict(X_test)"
   ]
  },
  {
   "cell_type": "code",
   "execution_count": 14,
   "id": "197704ba",
   "metadata": {},
   "outputs": [
    {
     "name": "stdout",
     "output_type": "stream",
     "text": [
      "0.4\n"
     ]
    }
   ],
   "source": [
    "print(knn.score(X_resampled, y_resampled))"
   ]
  },
  {
   "cell_type": "code",
   "execution_count": 15,
   "id": "2f604e36",
   "metadata": {},
   "outputs": [
    {
     "data": {
      "text/plain": [
       "0.6"
      ]
     },
     "execution_count": 15,
     "metadata": {},
     "output_type": "execute_result"
    }
   ],
   "source": [
    "regression.score(X_resampled, y_resampled)"
   ]
  },
  {
   "cell_type": "markdown",
   "id": "5a958f28",
   "metadata": {},
   "source": [
    "I chose oversampling for this dataset. I chose oversampling because it is more frequently used and this dataset is for fraud detection as well. However, oversampling on the dataset seems to have made the knn score and regression score less than it was before."
   ]
  },
  {
   "cell_type": "code",
   "execution_count": 23,
   "id": "533720db",
   "metadata": {},
   "outputs": [],
   "source": [
    "#3\n",
    "from sklearn.linear_model import LogisticRegression\n",
    "\n",
    "classifier = LogisticRegression()\n",
    "y_score = classifier.fit(X_train, y_train).predict_proba(X_test)"
   ]
  },
  {
   "cell_type": "code",
   "execution_count": 24,
   "id": "b456ebe4",
   "metadata": {},
   "outputs": [
    {
     "data": {
      "text/plain": [
       "(465, 5)"
      ]
     },
     "execution_count": 24,
     "metadata": {},
     "output_type": "execute_result"
    }
   ],
   "source": [
    "from sklearn.preprocessing import LabelBinarizer\n",
    "\n",
    "label_binarizer = LabelBinarizer().fit(y_train)\n",
    "y_onehot_test = label_binarizer.transform(y_test)\n",
    "y_onehot_test.shape"
   ]
  },
  {
   "cell_type": "code",
   "execution_count": 25,
   "id": "6ae1b8d1",
   "metadata": {},
   "outputs": [
    {
     "name": "stderr",
     "output_type": "stream",
     "text": [
      "/tmp/ipykernel_14757/2820264446.py:2: FutureWarning: elementwise comparison failed; returning scalar instead, but in the future will perform elementwise comparison\n",
      "  class_id = np.flatnonzero(label_binarizer.classes_ == class_of_interest)\n"
     ]
    },
    {
     "data": {
      "text/plain": [
       "array([], dtype=int64)"
      ]
     },
     "execution_count": 25,
     "metadata": {},
     "output_type": "execute_result"
    }
   ],
   "source": [
    "class_of_interest = 'Education'\n",
    "class_id = np.flatnonzero(label_binarizer.classes_ == class_of_interest)\n",
    "class_id"
   ]
  },
  {
   "cell_type": "code",
   "execution_count": 27,
   "id": "aec78385",
   "metadata": {},
   "outputs": [
    {
     "data": {
      "image/png": "[encoded data removed]",
      "text/plain": [
       "<Figure size 640x480 with 1 Axes>"
      ]
     },
     "metadata": {},
     "output_type": "display_data"
    }
   ],
   "source": [
    "from sklearn.metrics import RocCurveDisplay\n",
    "\n",
    "display = RocCurveDisplay.from_predictions(\n",
    "    y_onehot_test.ravel(),\n",
    "    y_score.ravel(),\n",
    "    name=\"micro-average OvR\",\n",
    "    color=\"darkorange\",\n",
    ")\n",
    "_ = display.ax_.set(\n",
    "    xlabel=\"False Positive Rate\",\n",
    "    ylabel=\"True Positive Rate\",\n",
    ")"
   ]
  },
  {
   "cell_type": "code",
   "execution_count": 28,
   "id": "ad8de571",
   "metadata": {},
   "outputs": [
    {
     "name": "stdout",
     "output_type": "stream",
     "text": [
      "0.9976633136778819\n"
     ]
    }
   ],
   "source": [
    "from sklearn.metrics import roc_auc_score\n",
    "\n",
    "micro_roc_auc_ovr = roc_auc_score(\n",
    "    y_test,\n",
    "    y_score,\n",
    "    multi_class='ovr',\n",
    "    average='micro')\n",
    "print(micro_roc_auc_ovr)"
   ]
  },
  {
   "cell_type": "code",
   "execution_count": 29,
   "id": "0125e570",
   "metadata": {},
   "outputs": [
    {
     "name": "stdout",
     "output_type": "stream",
     "text": [
      "0.888658346176525\n"
     ]
    }
   ],
   "source": [
    "macro_roc_auc_ovr = roc_auc_score(\n",
    "    y_test,\n",
    "    y_score,\n",
    "    multi_class=\"ovr\",\n",
    "    average=\"macro\",\n",
    ")\n",
    "print(macro_roc_auc_ovr)"
   ]
  },
  {
   "cell_type": "code",
   "execution_count": 30,
   "id": "19e00325",
   "metadata": {},
   "outputs": [
    {
     "data": {
      "text/html": [
       "<style>#sk-container-id-2 {color: black;background-color: white;}#sk-container-id-2 pre{padding: 0;}#sk-container-id-2 div.sk-toggleable {background-color: white;}#sk-container-id-2 label.sk-toggleable__label {cursor: pointer;display: block;width: 100%;margin-bottom: 0;padding: 0.3em;box-sizing: border-box;text-align: center;}#sk-container-id-2 label.sk-toggleable__label-arrow:before {content: \"▸\";float: left;margin-right: 0.25em;color: #696969;}#sk-container-id-2 label.sk-toggleable__label-arrow:hover:before {color: black;}#sk-container-id-2 div.sk-estimator:hover label.sk-toggleable__label-arrow:before {color: black;}#sk-container-id-2 div.sk-toggleable__content {max-height: 0;max-width: 0;overflow: hidden;text-align: left;background-color: #f0f8ff;}#sk-container-id-2 div.sk-toggleable__content pre {margin: 0.2em;color: black;border-radius: 0.25em;background-color: #f0f8ff;}#sk-container-id-2 input.sk-toggleable__control:checked~div.sk-toggleable__content {max-height: 200px;max-width: 100%;overflow: auto;}#sk-container-id-2 input.sk-toggleable__control:checked~label.sk-toggleable__label-arrow:before {content: \"▾\";}#sk-container-id-2 div.sk-estimator input.sk-toggleable__control:checked~label.sk-toggleable__label {background-color: #d4ebff;}#sk-container-id-2 div.sk-label input.sk-toggleable__control:checked~label.sk-toggleable__label {background-color: #d4ebff;}#sk-container-id-2 input.sk-hidden--visually {border: 0;clip: rect(1px 1px 1px 1px);clip: rect(1px, 1px, 1px, 1px);height: 1px;margin: -1px;overflow: hidden;padding: 0;position: absolute;width: 1px;}#sk-container-id-2 div.sk-estimator {font-family: monospace;background-color: #f0f8ff;border: 1px dotted black;border-radius: 0.25em;box-sizing: border-box;margin-bottom: 0.5em;}#sk-container-id-2 div.sk-estimator:hover {background-color: #d4ebff;}#sk-container-id-2 div.sk-parallel-item::after {content: \"\";width: 100%;border-bottom: 1px solid gray;flex-grow: 1;}#sk-container-id-2 div.sk-label:hover label.sk-toggleable__label {background-color: #d4ebff;}#sk-container-id-2 div.sk-serial::before {content: \"\";position: absolute;border-left: 1px solid gray;box-sizing: border-box;top: 0;bottom: 0;left: 50%;z-index: 0;}#sk-container-id-2 div.sk-serial {display: flex;flex-direction: column;align-items: center;background-color: white;padding-right: 0.2em;padding-left: 0.2em;position: relative;}#sk-container-id-2 div.sk-item {position: relative;z-index: 1;}#sk-container-id-2 div.sk-parallel {display: flex;align-items: stretch;justify-content: center;background-color: white;position: relative;}#sk-container-id-2 div.sk-item::before, #sk-container-id-2 div.sk-parallel-item::before {content: \"\";position: absolute;border-left: 1px solid gray;box-sizing: border-box;top: 0;bottom: 0;left: 50%;z-index: -1;}#sk-container-id-2 div.sk-parallel-item {display: flex;flex-direction: column;z-index: 1;position: relative;background-color: white;}#sk-container-id-2 div.sk-parallel-item:first-child::after {align-self: flex-end;width: 50%;}#sk-container-id-2 div.sk-parallel-item:last-child::after {align-self: flex-start;width: 50%;}#sk-container-id-2 div.sk-parallel-item:only-child::after {width: 0;}#sk-container-id-2 div.sk-dashed-wrapped {border: 1px dashed gray;margin: 0 0.4em 0.5em 0.4em;box-sizing: border-box;padding-bottom: 0.4em;background-color: white;}#sk-container-id-2 div.sk-label label {font-family: monospace;font-weight: bold;display: inline-block;line-height: 1.2em;}#sk-container-id-2 div.sk-label-container {text-align: center;}#sk-container-id-2 div.sk-container {/* jupyter's `normalize.less` sets `[hidden] { display: none; }` but bootstrap.min.css set `[hidden] { display: none !important; }` so we also need the `!important` here to be able to override the default hidden behavior on the sphinx rendered scikit-learn.org. See: https://github.com/scikit-learn/scikit-learn/issues/21755 */display: inline-block !important;position: relative;}#sk-container-id-2 div.sk-text-repr-fallback {display: none;}</style><div id=\"sk-container-id-2\" class=\"sk-top-container\"><div class=\"sk-text-repr-fallback\"><pre>SVC()</pre><b>In a Jupyter environment, please rerun this cell to show the HTML representation or trust the notebook. <br />On GitHub, the HTML representation is unable to render, please try loading this page with nbviewer.org.</b></div><div class=\"sk-container\" hidden><div class=\"sk-item\"><div class=\"sk-estimator sk-toggleable\"><input class=\"sk-toggleable__control sk-hidden--visually\" id=\"sk-estimator-id-2\" type=\"checkbox\" checked><label for=\"sk-estimator-id-2\" class=\"sk-toggleable__label sk-toggleable__label-arrow\">SVC</label><div class=\"sk-toggleable__content\"><pre>SVC()</pre></div></div></div></div></div>"
      ],
      "text/plain": [
       "SVC()"
      ]
     },
     "execution_count": 30,
     "metadata": {},
     "output_type": "execute_result"
    }
   ],
   "source": [
    "#4\n",
    "\n",
    "from sklearn import svm\n",
    "from sklearn.svm import SVC\n",
    "clf = svm.SVC()\n",
    "clf.fit(X, y)\n",
    "SVC()"
   ]
  },
  {
   "cell_type": "code",
   "execution_count": 31,
   "id": "c193285c",
   "metadata": {},
   "outputs": [],
   "source": [
    "classifier = SVC(kernel='linear')"
   ]
  },
  {
   "cell_type": "code",
   "execution_count": 36,
   "id": "a17ff6fa",
   "metadata": {},
   "outputs": [
    {
     "name": "stdout",
     "output_type": "stream",
     "text": [
      "[1 4 4 1 4 4 4 1 4 1 4 4 1 2 4 4 4 4 1 4 4 4 4 1 4 1 3 1 4 4 1 4 4 1 4 4 4\n",
      " 4 4 4 1 4 1 4 1 4 4 4 4 4 1 4 4 4 4 4 1 4 4 4 4 4 1 4 1 1 1 4 4 4 1 4 1 4\n",
      " 4 4 4 4 2 4 1 1 4 1 4 1 1 1 1 4 1 4 1 1 4 1 4 1 4 4 4 4 4 4 4 4 4 4 4 4 4\n",
      " 4 4 4 4 4 4 4 2 4 4 4 4 4 4 1 4 4 1 4 4 1 4 1 1 4 4 4 4 1 1 1 4 4 1 4 1 4\n",
      " 4 3 4 4 1 1 4 4 4 1 4 1 4 4 1 4 1 4 4 4 4 3 4 1 4 4 3 4 4 4 1 4 4 4 4 1 1\n",
      " 4 1 4 4 2 2 3 1 4 1 4 1 1 4 1 2 4 4 4 1 4 4 2 4 2 4 4 4 3 4 4 4 4 4 1 4 4\n",
      " 1 4 4 4 2 1 4 4 4 4 1 4 1 4 4 4 4 4 1 4 4 4 4 1 4 4 4 4 2 4 4 4 4 4 4 4 4\n",
      " 4 4 4 4 1 1 4 4 4 4 4 4 1 4 4 4 4 4 4 4 4 4 4 4 4 4 4 4 4 1 4 4 4 4 4 4 4\n",
      " 4 1 4 4 1 4 1 4 4 4 1 1 4 1 4 4 2 1 4 1 4 4 1 4 1 4 4 1 1 4 4 1 4 4 4 4 4\n",
      " 4 4 1 4 1 4 4 4 1 2 1 4 4 4 4 4 1 4 4 4 4 1 4 1 4 4 4 4 4 1 1 4 4 1 1 4 4\n",
      " 4 4 1 1 1 4 4 4 1 4 4 1 4 1 4 4 4 4 1 4 4 1 4 4 1 4 1 4 4 4 4 1 4 4 4 1 2\n",
      " 2 1 4 4 4 1 1 4 4 4 2 3 3 1 4 1 1 4 4 4 4 1 1 4 4 1 4 4 1 4 1 4 4 4 4 1 4\n",
      " 4 1 1 4 4 4 1 4 4 4 2 4 4 1 4 4 4 4 1 4 4]\n"
     ]
    }
   ],
   "source": [
    "svm = SVC(kernel='linear')\n",
    "svm.fit(X_train, y_train)\n",
    "y_pred = svm.predict(X_test)\n",
    "print(y_pred)"
   ]
  },
  {
   "cell_type": "code",
   "execution_count": 40,
   "id": "389d3aa6",
   "metadata": {},
   "outputs": [
    {
     "name": "stdout",
     "output_type": "stream",
     "text": [
      "Accuracy: 0.9978494623655914\n"
     ]
    }
   ],
   "source": [
    "from sklearn.metrics import accuracy_score\n",
    "\n",
    "accuracy = accuracy_score(y_test, y_pred)\n",
    "print(f\"Accuracy: {accuracy}\")"
   ]
  },
  {
   "cell_type": "markdown",
   "id": "7aaf6b45",
   "metadata": {},
   "source": [
    "The SVM model seems to have performed well with an accuracy score of 0.99."
   ]
  },
  {
   "cell_type": "markdown",
   "id": "54eaddd4",
   "metadata": {},
   "source": [
    "5. Outlier detection is the finding or determining of data points that are the extreme values of a distribution of data points in comparison to other data point. Typically, they would be significantly different from other datapoints in that distribution. It is important because they are typically used in situations such as fraud detection or cybersecurity where having accurate information is important. Hence, outliers tend to correspond with rare or uncommon events that may such as those cyberattacks or fraud detections. Therefore, outlier detection aids in quantifying the common events and using them as a reference for identifying abnormalities in data. Outliers can also help identify errors in measurement, bad data collection, or show variables that were not considered when collecting the data. Some methods you can use for outlier detection include box plots, isolation forests, and OneClassSVM. Each method has its own purpose and when it can be used. For example, box plots would be typically used for smaller data, while OneClassSVM would be used for larger and multimodal datasets. Isolation forests would be in the middle."
   ]
  }
 ],
 "metadata": {
  "kernelspec": {
   "display_name": "Python 3 (ipykernel)",
   "language": "python",
   "name": "python3"
  },
  "language_info": {
   "codemirror_mode": {
    "name": "ipython",
    "version": 3
   },
   "file_extension": ".py",
   "mimetype": "text/x-python",
   "name": "python",
   "nbconvert_exporter": "python",
   "pygments_lexer": "ipython3",
   "version": "3.11.2"
  }
 },
 "nbformat": 4,
 "nbformat_minor": 5
}
