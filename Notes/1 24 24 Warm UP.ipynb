{
 "cells": [
  {
   "cell_type": "code",
   "execution_count": 4,
   "id": "fbcb8e8b",
   "metadata": {},
   "outputs": [],
   "source": [
    "x = 4"
   ]
  },
  {
   "cell_type": "code",
   "execution_count": 7,
   "id": "57902712",
   "metadata": {},
   "outputs": [
    {
     "name": "stdout",
     "output_type": "stream",
     "text": [
      "4\n"
     ]
    }
   ],
   "source": [
    "print(x)"
   ]
  },
  {
   "cell_type": "code",
   "execution_count": 9,
   "id": "8897437b",
   "metadata": {},
   "outputs": [
    {
     "name": "stdout",
     "output_type": "stream",
     "text": [
      "The variable x is equal to the <value>\n"
     ]
    }
   ],
   "source": [
    "return_value = print (\"The variable x is equal to the <value>\")"
   ]
  },
  {
   "cell_type": "code",
   "execution_count": null,
   "id": "b5c0a3ae",
   "metadata": {},
   "outputs": [],
   "source": [
    "x = input (78)\n",
    "print('The variable x has a value of:' + x)"
   ]
  }
 ],
 "metadata": {
  "kernelspec": {
   "display_name": "Python 3 (ipykernel)",
   "language": "python",
   "name": "python3"
  },
  "language_info": {
   "codemirror_mode": {
    "name": "ipython",
    "version": 3
   },
   "file_extension": ".py",
   "mimetype": "text/x-python",
   "name": "python",
   "nbconvert_exporter": "python",
   "pygments_lexer": "ipython3",
   "version": "3.11.2"
  }
 },
 "nbformat": 4,
 "nbformat_minor": 5
}
