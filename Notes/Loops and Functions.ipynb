{
 "cells": [
  {
   "cell_type": "markdown",
   "id": "7e97bdb4",
   "metadata": {},
   "source": [
    "Loops and Functions"
   ]
  },
  {
   "cell_type": "code",
   "execution_count": 2,
   "id": "60085642",
   "metadata": {},
   "outputs": [
    {
     "name": "stdout",
     "output_type": "stream",
     "text": [
      "they are not equal\n"
     ]
    }
   ],
   "source": [
    "\n",
    "# Loops are flow control. They change how data moves through the application.\n",
    "# if ... elif ... else\n",
    "# if a equals b, return \"they are equal\". If a > b return \"a is greater\"\n",
    "# and if b > a retrun \"b is greater\".\n",
    "a = 2\n",
    "b = 3\n",
    "\n",
    "if a == b:\n",
    "    print(\"they are equal\")\n",
    "else:\n",
    "    print(\"they are not equal\")"
   ]
  },
  {
   "cell_type": "code",
   "execution_count": 4,
   "id": "c773d076",
   "metadata": {},
   "outputs": [
    {
     "name": "stdout",
     "output_type": "stream",
     "text": [
      "b is greater\n"
     ]
    }
   ],
   "source": [
    "a = 2\n",
    "b = 7\n",
    "\n",
    "if a == b:\n",
    "    print (\"they are equal\")\n",
    "elif a>b:\n",
    "    print (\"a is greater\")\n",
    "elif b>a:\n",
    "    print(\"b is greater\")"
   ]
  },
  {
   "cell_type": "code",
   "execution_count": 1,
   "id": "76c2c534",
   "metadata": {},
   "outputs": [
    {
     "name": "stdout",
     "output_type": "stream",
     "text": [
      "7\n",
      "6\n"
     ]
    }
   ],
   "source": [
    "# while loops\n",
    "# repeatedly test an expression and continue to run whatever is in the loop\n",
    "# until a stopping condition is met\n",
    "x = 7\n",
    "while x > 5:\n",
    "    print(x)\n",
    "    #decrement our x so it can stop\n",
    "    # x = x - 1\n",
    "    x-=1"
   ]
  },
  {
   "cell_type": "code",
   "execution_count": 2,
   "id": "ef66e331",
   "metadata": {},
   "outputs": [
    {
     "name": "stdout",
     "output_type": "stream",
     "text": [
      "3\n",
      "4\n",
      "5\n",
      "6\n",
      "7\n",
      "8\n",
      "9\n"
     ]
    }
   ],
   "source": [
    "# create a scenario where x starts at 3 and is incremented by 1\n",
    "# you print the value of x while x is less than 10\n",
    "x = 3\n",
    "while x < 10:\n",
    "    print(x)\n",
    "    x+=1"
   ]
  },
  {
   "cell_type": "code",
   "execution_count": 3,
   "id": "6b594a25",
   "metadata": {},
   "outputs": [
    {
     "name": "stdout",
     "output_type": "stream",
     "text": [
      "['Dexter', 'Pharoah', 'Oreo', 'Midas', 'Enzo', 'Warmonger']\n",
      "['Dexter', 'Pharoah', 'Oreo', 'Midas', 'Enzo', 'Warmonger']\n",
      "['Dexter', 'Pharoah', 'Oreo', 'Midas', 'Enzo', 'Warmonger']\n",
      "['Dexter', 'Pharoah', 'Oreo', 'Midas', 'Enzo', 'Warmonger']\n",
      "['Dexter', 'Pharoah', 'Oreo', 'Midas', 'Enzo', 'Warmonger']\n",
      "['Dexter', 'Pharoah', 'Oreo', 'Midas', 'Enzo', 'Warmonger']\n"
     ]
    }
   ],
   "source": [
    "# for loops\n",
    "cats = [\"Dexter\",\"Pharoah\",\"Oreo\",\"Midas\",\"Enzo\",\"Warmonger\"]\n",
    "for cat in cats:\n",
    "    print(cats)"
   ]
  },
  {
   "cell_type": "code",
   "execution_count": 4,
   "id": "32afd468",
   "metadata": {},
   "outputs": [
    {
     "name": "stdout",
     "output_type": "stream",
     "text": [
      "2\n",
      "4\n",
      "6\n",
      "8\n"
     ]
    }
   ],
   "source": [
    "# range(start, stop[,step])\n",
    "for r in range(2,10,2):\n",
    "    print(r)"
   ]
  },
  {
   "cell_type": "code",
   "execution_count": 5,
   "id": "d26949d4",
   "metadata": {},
   "outputs": [],
   "source": [
    "# functions\n",
    "# functions: let us encapsulate chunks of code that we might want to use again\n",
    "def comparing(a,b):\n",
    "    if a == b:\n",
    "        print (\"they are equal\")\n",
    "    elif a>b:\n",
    "        print (\"a is greater\")\n",
    "    elif b>a:\n",
    "        print(\"b is greater\")"
   ]
  },
  {
   "cell_type": "code",
   "execution_count": 6,
   "id": "22b32d73",
   "metadata": {},
   "outputs": [
    {
     "name": "stdout",
     "output_type": "stream",
     "text": [
      "b is greater\n"
     ]
    }
   ],
   "source": [
    "comparing(2,5)"
   ]
  },
  {
   "cell_type": "code",
   "execution_count": 7,
   "id": "21206d0b",
   "metadata": {},
   "outputs": [
    {
     "name": "stdout",
     "output_type": "stream",
     "text": [
      "b is greater\n"
     ]
    }
   ],
   "source": [
    "comparing(4,10)"
   ]
  },
  {
   "cell_type": "code",
   "execution_count": null,
   "id": "751a03f6",
   "metadata": {},
   "outputs": [],
   "source": []
  }
 ],
 "metadata": {
  "kernelspec": {
   "display_name": "Python 3 (ipykernel)",
   "language": "python",
   "name": "python3"
  },
  "language_info": {
   "codemirror_mode": {
    "name": "ipython",
    "version": 3
   },
   "file_extension": ".py",
   "mimetype": "text/x-python",
   "name": "python",
   "nbconvert_exporter": "python",
   "pygments_lexer": "ipython3",
   "version": "3.11.2"
  }
 },
 "nbformat": 4,
 "nbformat_minor": 5
}
