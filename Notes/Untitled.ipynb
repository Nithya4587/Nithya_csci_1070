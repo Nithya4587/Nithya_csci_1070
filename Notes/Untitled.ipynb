{
 "cells": [
  {
   "cell_type": "markdown",
   "id": "d7a8234c",
   "metadata": {},
   "source": [
    "# Warm-Up"
   ]
  },
  {
   "cell_type": "markdown",
   "id": "dc53e68e",
   "metadata": {},
   "source": [
    "Q. What are bagging and boosting? What do they help us reduce?\n",
    "\n",
    "A. Bagging and boosting are different ensemble techniques that use multiple models to reduce error and optimize the model. Bagging combines multiple models trained on different subsets of data, while boosting trains the model sequentially, focusing on the error made by the previous model.\n",
    "\n",
    "Q. Write a python function that will swap two elements in a list. It will take in a list, the position of the first element, and the position of the second element. It will return a new list with the elements swapped in the passed in positions."
   ]
  },
  {
   "cell_type": "code",
   "execution_count": 9,
   "id": "c52449ed",
   "metadata": {},
   "outputs": [
    {
     "name": "stdout",
     "output_type": "stream",
     "text": [
      "[4, 2, 3, 1]\n"
     ]
    }
   ],
   "source": [
    "def swapPositions(list, pos1, post2):\n",
    "    list[pos1], list[pos2] = list[pos2], list[pos1]\n",
    "    return list\n",
    "List = [1, 2, 3 , 4]\n",
    "pos1, pos2 = 1, 3\n",
    "\n",
    "print(swapPositions(List, pos1-1, pos2-1))"
   ]
  },
  {
   "cell_type": "code",
   "execution_count": 15,
   "id": "9c57bdc5",
   "metadata": {},
   "outputs": [
    {
     "name": "stdout",
     "output_type": "stream",
     "text": [
      "[41, 23, 98, 900]\n"
     ]
    }
   ],
   "source": [
    "# Conner Example\n",
    "def swapper(list: list[int], pos1: int, pos2: int) -> list[int]:\n",
    "    \"\"\"Swaps elements at given positions in list\"\"\"\n",
    "    list[pos1], list[pos2] = list[pos2], list[pos1]\n",
    "    return list\n",
    "\n",
    "example_list = [23, 41, 98, 900]\n",
    "pos1, pos2 = 0, 1\n",
    "\n",
    "print(swapper(example_list, pos1 = 1, pos2 = 0))"
   ]
  },
  {
   "cell_type": "markdown",
   "id": "405c7672",
   "metadata": {},
   "source": [
    "# ROC and AUC Curves"
   ]
  },
  {
   "cell_type": "markdown",
   "id": "62d834c2",
   "metadata": {},
   "source": [
    "Q1. What is an ROC curve? Why is it useful over simply using the true positive and false positive rates?\n",
    "A1. An ROC curve (reciever operating characteristic curve) is a graph that shows the performance of a classification model at all classification thresholds. Instead of just giving the TP or FP rates, it shows how it changes over time as well. \n",
    "\n",
    "Q2. What is AUC and what does it tell us? \n",
    "A2. AUC (Area under the ROC Curve) measures the entire two-dimensional area underneath the entire ROC curve. It provides an aggregate measure of performance across all possible classification thresholds."
   ]
  }
 ],
 "metadata": {
  "kernelspec": {
   "display_name": "Python 3 (ipykernel)",
   "language": "python",
   "name": "python3"
  },
  "language_info": {
   "codemirror_mode": {
    "name": "ipython",
    "version": 3
   },
   "file_extension": ".py",
   "mimetype": "text/x-python",
   "name": "python",
   "nbconvert_exporter": "python",
   "pygments_lexer": "ipython3",
   "version": "3.11.2"
  }
 },
 "nbformat": 4,
 "nbformat_minor": 5
}
