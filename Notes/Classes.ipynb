{
 "cells": [
  {
   "cell_type": "markdown",
   "id": "abd16b1f",
   "metadata": {},
   "source": [
    "# Constructor\n",
    "__init__ (__ is dunder) (__init__ has two underscores, not one)\n",
    "SELF is a default variable that contains the memory address of the current code youre working in"
   ]
  },
  {
   "cell_type": "code",
   "execution_count": 3,
   "id": "0e2deeb2",
   "metadata": {},
   "outputs": [
    {
     "name": "stdout",
     "output_type": "stream",
     "text": [
      "0\n"
     ]
    }
   ],
   "source": [
    "class a_sample_class:\n",
    "    #default/basic constructor\n",
    "    def __init__(self):\n",
    "        self.var = 0\n",
    "        \n",
    "    #an instance method for printing\n",
    "    def print_vars(self):\n",
    "        print(self.var)\n",
    "        \n",
    "# create instance of class\n",
    "obj = a_sample_class()\n",
    "\n",
    "#call instance method to get value for var\n",
    "obj.print_vars()"
   ]
  },
  {
   "cell_type": "code",
   "execution_count": 2,
   "id": "534d0341",
   "metadata": {},
   "outputs": [
    {
     "name": "stdout",
     "output_type": "stream",
     "text": [
      "2\n"
     ]
    }
   ],
   "source": [
    "class a_sample_class:\n",
    "    #paramaterized constructor\n",
    "    def __init__(self, one, two):\n",
    "        self.first = one\n",
    "        \n",
    "    #an instance method for printing\n",
    "    def print_vars(self):\n",
    "        print(self.first)\n",
    "     \n",
    "    \n",
    "obj = a_sample_class(2,8)\n",
    "obj.print_vars()"
   ]
  },
  {
   "cell_type": "code",
   "execution_count": 4,
   "id": "978302f5",
   "metadata": {},
   "outputs": [
    {
     "name": "stdout",
     "output_type": "stream",
     "text": [
      "17\n",
      "5\n"
     ]
    },
    {
     "ename": "AttributeError",
     "evalue": "type object 'a_sample_class' has no attribute 'first'",
     "output_type": "error",
     "traceback": [
      "\u001b[0;31m---------------------------------------------------------------------------\u001b[0m",
      "\u001b[0;31mAttributeError\u001b[0m                            Traceback (most recent call last)",
      "Cell \u001b[0;32mIn [4], line 19\u001b[0m\n\u001b[1;32m     16\u001b[0m \u001b[38;5;28mprint\u001b[39m(obj\u001b[38;5;241m.\u001b[39mclass_attr)\n\u001b[1;32m     18\u001b[0m \u001b[38;5;66;03m#instance attribute as property of class\u001b[39;00m\n\u001b[0;32m---> 19\u001b[0m \u001b[38;5;28mprint\u001b[39m(\u001b[43ma_sample_class\u001b[49m\u001b[38;5;241;43m.\u001b[39;49m\u001b[43mfirst\u001b[49m)\n\u001b[1;32m     21\u001b[0m \u001b[38;5;66;03m#class attribute as property of class\u001b[39;00m\n\u001b[1;32m     22\u001b[0m \u001b[38;5;28mprint\u001b[39m(a_sample_class\u001b[38;5;241m.\u001b[39mclass_attr)\n",
      "\u001b[0;31mAttributeError\u001b[0m: type object 'a_sample_class' has no attribute 'first'"
     ]
    }
   ],
   "source": [
    "class a_sample_class:\n",
    "    class_attr = 5\n",
    "    \n",
    "    def __init__(self, one, two):\n",
    "        #instance attribute\n",
    "        self.first = one\n",
    "        self.second = two\n",
    "        \n",
    "#object is instance of class\n",
    "obj = a_sample_class(17,42)\n",
    "\n",
    "#instance attributes as property of object \n",
    "print(obj.first)\n",
    "\n",
    "#class attribute as property of object\n",
    "print(obj.class_attr)\n",
    "\n",
    "#instance attribute as property of class (Does not work because class has no instance)\n",
    "print(a_sample_class.first)\n",
    "\n",
    "#class attribute as property of class (Should execuete when not in the same cell as the third one)\n",
    "print(a_sample_class.class_attr)"
   ]
  },
  {
   "cell_type": "code",
   "execution_count": 5,
   "id": "1a161dc4",
   "metadata": {},
   "outputs": [
    {
     "name": "stdout",
     "output_type": "stream",
     "text": [
      "17\n",
      "5\n",
      "5\n"
     ]
    }
   ],
   "source": [
    "class a_sample_class:\n",
    "    class_attr = 5\n",
    "    \n",
    "    def __init__(self, one, two):\n",
    "        #instance attribute\n",
    "        self.first = one\n",
    "        self.second = two\n",
    "        \n",
    "#object is instance of class\n",
    "obj = a_sample_class(17,42)\n",
    "\n",
    "#instance attributes as property of object \n",
    "print(obj.first)\n",
    "\n",
    "#class attribute as property of object\n",
    "print(obj.class_attr)\n",
    "\n",
    "#class attribute as property of class\n",
    "print(a_sample_class.class_attr)"
   ]
  },
  {
   "cell_type": "markdown",
   "id": "3a306e9a",
   "metadata": {},
   "source": [
    "# Instance Attributes and Class Attributes\n",
    "2 scopes for attributes\n",
    "\n",
    "instance attribute = variable that belongs to a specific instance or instantiation. Defined inside the constructor (init). Can access from the scope of an object (local)\n",
    "\n",
    "Class attribute = type of variable that belongs to the class itself.\n",
    "Defined outside the constructor. Similar to static attributes in Java (not exactly the same). Both a property of a class AND a property of the object. We can mutate a class attribute to be an instance attribute."
   ]
  },
  {
   "cell_type": "code",
   "execution_count": 6,
   "id": "7ef4511e",
   "metadata": {},
   "outputs": [
    {
     "name": "stdout",
     "output_type": "stream",
     "text": [
      "Help on a_sample_class in module __main__ object:\n",
      "\n",
      "class a_sample_class(builtins.object)\n",
      " |  a_sample_class(one, two)\n",
      " |  \n",
      " |  Methods defined here:\n",
      " |  \n",
      " |  __init__(self, one, two)\n",
      " |      Initialize self.  See help(type(self)) for accurate signature.\n",
      " |  \n",
      " |  ----------------------------------------------------------------------\n",
      " |  Data descriptors defined here:\n",
      " |  \n",
      " |  __dict__\n",
      " |      dictionary for instance variables (if defined)\n",
      " |  \n",
      " |  __weakref__\n",
      " |      list of weak references to the object (if defined)\n",
      " |  \n",
      " |  ----------------------------------------------------------------------\n",
      " |  Data and other attributes defined here:\n",
      " |  \n",
      " |  class_attr = 5\n",
      "\n"
     ]
    }
   ],
   "source": [
    "help(obj)"
   ]
  },
  {
   "cell_type": "code",
   "execution_count": 7,
   "id": "eaec177d",
   "metadata": {},
   "outputs": [
    {
     "data": {
      "text/plain": [
       "['In',\n",
       " 'Out',\n",
       " '_',\n",
       " '__',\n",
       " '___',\n",
       " '__builtin__',\n",
       " '__builtins__',\n",
       " '__doc__',\n",
       " '__loader__',\n",
       " '__name__',\n",
       " '__package__',\n",
       " '__spec__',\n",
       " '_dh',\n",
       " '_i',\n",
       " '_i1',\n",
       " '_i2',\n",
       " '_i3',\n",
       " '_i4',\n",
       " '_i5',\n",
       " '_i6',\n",
       " '_i7',\n",
       " '_ih',\n",
       " '_ii',\n",
       " '_iii',\n",
       " '_oh',\n",
       " 'a_sample_class',\n",
       " 'exit',\n",
       " 'get_ipython',\n",
       " 'obj',\n",
       " 'quit']"
      ]
     },
     "execution_count": 7,
     "metadata": {},
     "output_type": "execute_result"
    }
   ],
   "source": [
    "# dir = directory of names in the current local scope\n",
    "dir()"
   ]
  },
  {
   "cell_type": "code",
   "execution_count": 8,
   "id": "06ecf737",
   "metadata": {},
   "outputs": [
    {
     "data": {
      "text/plain": [
       "{'__name__': '__main__',\n",
       " '__doc__': 'Automatically created module for IPython interactive environment',\n",
       " '__package__': None,\n",
       " '__loader__': None,\n",
       " '__spec__': None,\n",
       " '__builtin__': <module 'builtins' (built-in)>,\n",
       " '__builtins__': <module 'builtins' (built-in)>,\n",
       " '_ih': ['',\n",
       "  'class a_sample_class:\\n    #paramaterized constructor\\n    def _init_(self, one, two):\\n        self.first = one\\n        \\n    #an instance method for printing\\n    def print_vars(self):\\n        print(self.first)\\n     \\n    \\nobj = a_sample_class(2,8)\\nobj.print_vars()',\n",
       "  'class a_sample_class:\\n    #paramaterized constructor\\n    def __init__(self, one, two):\\n        self.first = one\\n        \\n    #an instance method for printing\\n    def print_vars(self):\\n        print(self.first)\\n     \\n    \\nobj = a_sample_class(2,8)\\nobj.print_vars()',\n",
       "  'class a_sample_class:\\n    #default/basic constructor\\n    def __init__(self):\\n        self.var = 0\\n        \\n    #an instance method for printing\\n    def print_vars(self):\\n        print(self.var)\\n        \\n# create instance of class\\nobj = a_sample_class()\\n\\n#call instance method to get value for var\\nobj.print_vars()',\n",
       "  'class a_sample_class:\\n    class_attr = 5\\n    \\n    def __init__(self, one, two):\\n        #instance attribute\\n        self.first = one\\n        self.second = two\\n        \\n#object is instance of class\\nobj = a_sample_class(17,42)\\n\\n#instance attributes as property of object \\nprint(obj.first)\\n\\n#class attribute as property of object\\nprint(obj.class_attr)\\n\\n#instance attribute as property of class\\nprint(a_sample_class.first)\\n\\n#class attribute as property of class\\nprint(a_sample_class.class_attr)',\n",
       "  'class a_sample_class:\\n    class_attr = 5\\n    \\n    def __init__(self, one, two):\\n        #instance attribute\\n        self.first = one\\n        self.second = two\\n        \\n#object is instance of class\\nobj = a_sample_class(17,42)\\n\\n#instance attributes as property of object \\nprint(obj.first)\\n\\n#class attribute as property of object\\nprint(obj.class_attr)\\n\\n#class attribute as property of class\\nprint(a_sample_class.class_attr)',\n",
       "  'help(obj)',\n",
       "  '# dir = directory of names in the current local scope\\ndir()',\n",
       "  '#\\nglobals()'],\n",
       " '_oh': {7: ['In',\n",
       "   'Out',\n",
       "   '_',\n",
       "   '__',\n",
       "   '___',\n",
       "   '__builtin__',\n",
       "   '__builtins__',\n",
       "   '__doc__',\n",
       "   '__loader__',\n",
       "   '__name__',\n",
       "   '__package__',\n",
       "   '__spec__',\n",
       "   '_dh',\n",
       "   '_i',\n",
       "   '_i1',\n",
       "   '_i2',\n",
       "   '_i3',\n",
       "   '_i4',\n",
       "   '_i5',\n",
       "   '_i6',\n",
       "   '_i7',\n",
       "   '_ih',\n",
       "   '_ii',\n",
       "   '_iii',\n",
       "   '_oh',\n",
       "   'a_sample_class',\n",
       "   'exit',\n",
       "   'get_ipython',\n",
       "   'obj',\n",
       "   'quit']},\n",
       " '_dh': [PosixPath('/home/nithya')],\n",
       " 'In': ['',\n",
       "  'class a_sample_class:\\n    #paramaterized constructor\\n    def _init_(self, one, two):\\n        self.first = one\\n        \\n    #an instance method for printing\\n    def print_vars(self):\\n        print(self.first)\\n     \\n    \\nobj = a_sample_class(2,8)\\nobj.print_vars()',\n",
       "  'class a_sample_class:\\n    #paramaterized constructor\\n    def __init__(self, one, two):\\n        self.first = one\\n        \\n    #an instance method for printing\\n    def print_vars(self):\\n        print(self.first)\\n     \\n    \\nobj = a_sample_class(2,8)\\nobj.print_vars()',\n",
       "  'class a_sample_class:\\n    #default/basic constructor\\n    def __init__(self):\\n        self.var = 0\\n        \\n    #an instance method for printing\\n    def print_vars(self):\\n        print(self.var)\\n        \\n# create instance of class\\nobj = a_sample_class()\\n\\n#call instance method to get value for var\\nobj.print_vars()',\n",
       "  'class a_sample_class:\\n    class_attr = 5\\n    \\n    def __init__(self, one, two):\\n        #instance attribute\\n        self.first = one\\n        self.second = two\\n        \\n#object is instance of class\\nobj = a_sample_class(17,42)\\n\\n#instance attributes as property of object \\nprint(obj.first)\\n\\n#class attribute as property of object\\nprint(obj.class_attr)\\n\\n#instance attribute as property of class\\nprint(a_sample_class.first)\\n\\n#class attribute as property of class\\nprint(a_sample_class.class_attr)',\n",
       "  'class a_sample_class:\\n    class_attr = 5\\n    \\n    def __init__(self, one, two):\\n        #instance attribute\\n        self.first = one\\n        self.second = two\\n        \\n#object is instance of class\\nobj = a_sample_class(17,42)\\n\\n#instance attributes as property of object \\nprint(obj.first)\\n\\n#class attribute as property of object\\nprint(obj.class_attr)\\n\\n#class attribute as property of class\\nprint(a_sample_class.class_attr)',\n",
       "  'help(obj)',\n",
       "  '# dir = directory of names in the current local scope\\ndir()',\n",
       "  '#\\nglobals()'],\n",
       " 'Out': {7: ['In',\n",
       "   'Out',\n",
       "   '_',\n",
       "   '__',\n",
       "   '___',\n",
       "   '__builtin__',\n",
       "   '__builtins__',\n",
       "   '__doc__',\n",
       "   '__loader__',\n",
       "   '__name__',\n",
       "   '__package__',\n",
       "   '__spec__',\n",
       "   '_dh',\n",
       "   '_i',\n",
       "   '_i1',\n",
       "   '_i2',\n",
       "   '_i3',\n",
       "   '_i4',\n",
       "   '_i5',\n",
       "   '_i6',\n",
       "   '_i7',\n",
       "   '_ih',\n",
       "   '_ii',\n",
       "   '_iii',\n",
       "   '_oh',\n",
       "   'a_sample_class',\n",
       "   'exit',\n",
       "   'get_ipython',\n",
       "   'obj',\n",
       "   'quit']},\n",
       " 'get_ipython': <bound method InteractiveShell.get_ipython of <ipykernel.zmqshell.ZMQInteractiveShell object at 0x7bf2d7eaf350>>,\n",
       " 'exit': <IPython.core.autocall.ZMQExitAutocall at 0x7bf2d7eafb90>,\n",
       " 'quit': <IPython.core.autocall.ZMQExitAutocall at 0x7bf2d7eafb90>,\n",
       " '_': ['In',\n",
       "  'Out',\n",
       "  '_',\n",
       "  '__',\n",
       "  '___',\n",
       "  '__builtin__',\n",
       "  '__builtins__',\n",
       "  '__doc__',\n",
       "  '__loader__',\n",
       "  '__name__',\n",
       "  '__package__',\n",
       "  '__spec__',\n",
       "  '_dh',\n",
       "  '_i',\n",
       "  '_i1',\n",
       "  '_i2',\n",
       "  '_i3',\n",
       "  '_i4',\n",
       "  '_i5',\n",
       "  '_i6',\n",
       "  '_i7',\n",
       "  '_ih',\n",
       "  '_ii',\n",
       "  '_iii',\n",
       "  '_oh',\n",
       "  'a_sample_class',\n",
       "  'exit',\n",
       "  'get_ipython',\n",
       "  'obj',\n",
       "  'quit'],\n",
       " '__': '',\n",
       " '___': '',\n",
       " '_i': '# dir = directory of names in the current local scope\\ndir()',\n",
       " '_ii': 'help(obj)',\n",
       " '_iii': 'class a_sample_class:\\n    class_attr = 5\\n    \\n    def __init__(self, one, two):\\n        #instance attribute\\n        self.first = one\\n        self.second = two\\n        \\n#object is instance of class\\nobj = a_sample_class(17,42)\\n\\n#instance attributes as property of object \\nprint(obj.first)\\n\\n#class attribute as property of object\\nprint(obj.class_attr)\\n\\n#class attribute as property of class\\nprint(a_sample_class.class_attr)',\n",
       " '_i1': 'class a_sample_class:\\n    #paramaterized constructor\\n    def _init_(self, one, two):\\n        self.first = one\\n        \\n    #an instance method for printing\\n    def print_vars(self):\\n        print(self.first)\\n     \\n    \\nobj = a_sample_class(2,8)\\nobj.print_vars()',\n",
       " 'a_sample_class': __main__.a_sample_class,\n",
       " '_i2': 'class a_sample_class:\\n    #paramaterized constructor\\n    def __init__(self, one, two):\\n        self.first = one\\n        \\n    #an instance method for printing\\n    def print_vars(self):\\n        print(self.first)\\n     \\n    \\nobj = a_sample_class(2,8)\\nobj.print_vars()',\n",
       " 'obj': <__main__.a_sample_class at 0x7bf2d4516990>,\n",
       " '_i3': 'class a_sample_class:\\n    #default/basic constructor\\n    def __init__(self):\\n        self.var = 0\\n        \\n    #an instance method for printing\\n    def print_vars(self):\\n        print(self.var)\\n        \\n# create instance of class\\nobj = a_sample_class()\\n\\n#call instance method to get value for var\\nobj.print_vars()',\n",
       " '_i4': 'class a_sample_class:\\n    class_attr = 5\\n    \\n    def __init__(self, one, two):\\n        #instance attribute\\n        self.first = one\\n        self.second = two\\n        \\n#object is instance of class\\nobj = a_sample_class(17,42)\\n\\n#instance attributes as property of object \\nprint(obj.first)\\n\\n#class attribute as property of object\\nprint(obj.class_attr)\\n\\n#instance attribute as property of class\\nprint(a_sample_class.first)\\n\\n#class attribute as property of class\\nprint(a_sample_class.class_attr)',\n",
       " '_i5': 'class a_sample_class:\\n    class_attr = 5\\n    \\n    def __init__(self, one, two):\\n        #instance attribute\\n        self.first = one\\n        self.second = two\\n        \\n#object is instance of class\\nobj = a_sample_class(17,42)\\n\\n#instance attributes as property of object \\nprint(obj.first)\\n\\n#class attribute as property of object\\nprint(obj.class_attr)\\n\\n#class attribute as property of class\\nprint(a_sample_class.class_attr)',\n",
       " '_i6': 'help(obj)',\n",
       " '_i7': '# dir = directory of names in the current local scope\\ndir()',\n",
       " '_7': ['In',\n",
       "  'Out',\n",
       "  '_',\n",
       "  '__',\n",
       "  '___',\n",
       "  '__builtin__',\n",
       "  '__builtins__',\n",
       "  '__doc__',\n",
       "  '__loader__',\n",
       "  '__name__',\n",
       "  '__package__',\n",
       "  '__spec__',\n",
       "  '_dh',\n",
       "  '_i',\n",
       "  '_i1',\n",
       "  '_i2',\n",
       "  '_i3',\n",
       "  '_i4',\n",
       "  '_i5',\n",
       "  '_i6',\n",
       "  '_i7',\n",
       "  '_ih',\n",
       "  '_ii',\n",
       "  '_iii',\n",
       "  '_oh',\n",
       "  'a_sample_class',\n",
       "  'exit',\n",
       "  'get_ipython',\n",
       "  'obj',\n",
       "  'quit'],\n",
       " '_i8': '#\\nglobals()'}"
      ]
     },
     "execution_count": 8,
     "metadata": {},
     "output_type": "execute_result"
    }
   ],
   "source": [
    "# returns the current module namespace\n",
    "# namespace = mapping between objects and current names. These are defined names and these also include the information about the defined objects\n",
    "globals()"
   ]
  },
  {
   "cell_type": "code",
   "execution_count": 1,
   "id": "acbadbc9",
   "metadata": {},
   "outputs": [],
   "source": [
    "# Instance, Class, and Static Methods\n",
    "class candy:\n",
    "    #variables that start wit a single underscore are \n",
    "    # reserved for internal purposes\n",
    "    def __init__(self,\n",
    "                 _brand,\n",
    "                 _is_caramel=False,\n",
    "                 _has_nuts=False,\n",
    "                 _calories=200,\n",
    "                 _type='chocolate',\n",
    "                 _size='regular'):\n",
    "        self.type=_type\n",
    "        self.brand = _brand\n",
    "        self.is_caramel = _is_caramel\n",
    "        self.calories = _calories\n",
    "        self.has_nuts = _has_nuts\n",
    "        self.size = _size\n",
    "        \n",
    "    # instance method - can access and modify both the class \n",
    "    # and the instance state\n",
    "    # printing is accessing the state\n",
    "    def display(self):\n",
    "        print(f'My favorite candy is {self.brand} {self.type}')\n",
    "        \n",
    "    # class method - used to modify the state of a class\n",
    "    @classmethod\n",
    "    def snicker(cls):\n",
    "        return cls('Snickers',_is_caramel=True,_has_nuts=True)\n",
    "    \n",
    "    #static method - used for comparison or validation\n",
    "    #commonly used in data for checking if data meets conditions\n",
    "    # if you went to check the value without needing an instance of it \n",
    "    @staticmethod\n",
    "    def calories(size,n):\n",
    "        if size == 'large':\n",
    "            calories = 500\n",
    "        elif size == 'regular':\n",
    "            calories = 350\n",
    "        elif size == 'funsized':\n",
    "            calories = 100\n",
    "        else:\n",
    "            calories = 0\n",
    "        calories = calories*n\n",
    "        return calories"
   ]
  },
  {
   "cell_type": "code",
   "execution_count": 2,
   "id": "a7c0bf9c",
   "metadata": {},
   "outputs": [
    {
     "name": "stdout",
     "output_type": "stream",
     "text": [
      "My favorite candy is Reeses chocolate\n"
     ]
    }
   ],
   "source": [
    "favorite_candy = candy(_brand='Reeses')\n",
    "favorite_candy.display()"
   ]
  },
  {
   "cell_type": "code",
   "execution_count": 4,
   "id": "c94090d4",
   "metadata": {},
   "outputs": [
    {
     "name": "stdout",
     "output_type": "stream",
     "text": [
      "My favorite candy is Snickers chocolate\n"
     ]
    }
   ],
   "source": [
    "favorite_candy = candy(_brand='Snickers')\n",
    "favorite_candy.display()"
   ]
  },
  {
   "cell_type": "code",
   "execution_count": 6,
   "id": "20ad471d",
   "metadata": {},
   "outputs": [
    {
     "ename": "AttributeError",
     "evalue": "type object 'candy' has no attribute 'snickers'",
     "output_type": "error",
     "traceback": [
      "\u001b[0;31m---------------------------------------------------------------------------\u001b[0m",
      "\u001b[0;31mAttributeError\u001b[0m                            Traceback (most recent call last)",
      "Cell \u001b[0;32mIn [6], line 2\u001b[0m\n\u001b[1;32m      1\u001b[0m \u001b[38;5;66;03m#creater a snickers bar instance\u001b[39;00m\n\u001b[0;32m----> 2\u001b[0m snickers_bar \u001b[38;5;241m=\u001b[39m \u001b[43mcandy\u001b[49m\u001b[38;5;241;43m.\u001b[39;49m\u001b[43msnickers\u001b[49m()\n\u001b[1;32m      3\u001b[0m snickers_bar\u001b[38;5;241m.\u001b[39mdisplay()\n",
      "\u001b[0;31mAttributeError\u001b[0m: type object 'candy' has no attribute 'snickers'"
     ]
    }
   ],
   "source": [
    "#creater a snickers bar instance\n",
    "snickers_bar = candy.snickers()\n",
    "snickers_bar.display()"
   ]
  },
  {
   "cell_type": "code",
   "execution_count": 5,
   "id": "950ca844",
   "metadata": {},
   "outputs": [
    {
     "data": {
      "text/plain": [
       "4000"
      ]
     },
     "execution_count": 5,
     "metadata": {},
     "output_type": "execute_result"
    }
   ],
   "source": [
    "candy.calories('funsized',40)"
   ]
  }
 ],
 "metadata": {
  "kernelspec": {
   "display_name": "Python 3 (ipykernel)",
   "language": "python",
   "name": "python3"
  },
  "language_info": {
   "codemirror_mode": {
    "name": "ipython",
    "version": 3
   },
   "file_extension": ".py",
   "mimetype": "text/x-python",
   "name": "python",
   "nbconvert_exporter": "python",
   "pygments_lexer": "ipython3",
   "version": "3.11.2"
  }
 },
 "nbformat": 4,
 "nbformat_minor": 5
}
