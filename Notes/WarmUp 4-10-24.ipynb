{
 "cells": [
  {
   "cell_type": "markdown",
   "id": "3d67cee2",
   "metadata": {},
   "source": [
    "# Warm Up - 4/10/24"
   ]
  },
  {
   "cell_type": "markdown",
   "id": "ad6f36ae",
   "metadata": {},
   "source": [
    "Q. How do you avoid overfitting your model?\n",
    "A. One way is by splitting our data using train-test-split. Another way is through feature selection.\n",
    "\n",
    "Q. Write a function that takes in a sentence and splits all values, separated by commas into list elements. For example: \"Cory, Tori, Evan, and Will\" becomes [\"Cory\",\"Tori\",\"Evan\", \"and Will\"]"
   ]
  },
  {
   "cell_type": "code",
   "execution_count": 1,
   "id": "d612eeba",
   "metadata": {},
   "outputs": [
    {
     "name": "stdout",
     "output_type": "stream",
     "text": [
      "['Cory', 'Tori', 'Evan', 'and Will']\n"
     ]
    }
   ],
   "source": [
    "def name_lister (names: list) -> list:\n",
    "    list = []\n",
    "    names = names.split(', ')\n",
    "    return names\n",
    "name = \"Cory, Tori, Evan, and Will\"\n",
    "print(name_lister(name))"
   ]
  }
 ],
 "metadata": {
  "kernelspec": {
   "display_name": "Python 3 (ipykernel)",
   "language": "python",
   "name": "python3"
  },
  "language_info": {
   "codemirror_mode": {
    "name": "ipython",
    "version": 3
   },
   "file_extension": ".py",
   "mimetype": "text/x-python",
   "name": "python",
   "nbconvert_exporter": "python",
   "pygments_lexer": "ipython3",
   "version": "3.11.2"
  }
 },
 "nbformat": 4,
 "nbformat_minor": 5
}
