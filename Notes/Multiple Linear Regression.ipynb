{
 "cells": [
  {
   "cell_type": "markdown",
   "id": "697103d9",
   "metadata": {},
   "source": [
    "Warm Up - 2/21/24"
   ]
  },
  {
   "cell_type": "markdown",
   "id": "7cbb8fc5",
   "metadata": {},
   "source": [
    "Linear regression is used for predictive analysis\n",
    "Can be used to solve for the other variable with a known variable"
   ]
  },
  {
   "cell_type": "markdown",
   "id": "431f1fc3",
   "metadata": {},
   "source": [
    "The K-nearest neighbor is used to make classifications and predictions. It can help to solve problems about predictions in datasets."
   ]
  },
  {
   "cell_type": "markdown",
   "id": "4d4209bd",
   "metadata": {},
   "source": [
    "Multiple Linear Regression"
   ]
  },
  {
   "cell_type": "code",
   "execution_count": null,
   "id": "0e916229",
   "metadata": {},
   "outputs": [],
   "source": [
    "import numpy as np\n",
    "import pandas as pd\n",
    "import matplotlib.pyplot as plt\n",
    "import seaborn as sns\n",
    "from sklearn.model.selection import train_test_split\n",
    "\n"
   ]
  },
  {
   "cell_type": "code",
   "execution_count": null,
   "id": "ac4e5fab",
   "metadata": {},
   "outputs": [],
   "source": [
    "# for mulitple linear regression and other model we need to use varibles that are \n",
    "# uncorrelated with each other as possible in our equation\n",
    "correlation = crime_df"
   ]
  },
  {
   "cell_type": "code",
   "execution_count": null,
   "id": "ad7b41d4",
   "metadata": {},
   "outputs": [],
   "source": [
    "X = crime_df[['X2','X5']]\n",
    "y = crime_df['X1']\n",
    "\n",
    "X_train,X_test,y_train,y_test = train_test_split[x,y,test_size=0.3,random_state=32]"
   ]
  },
  {
   "cell_type": "code",
   "execution_count": null,
   "id": "8c7470c0",
   "metadata": {},
   "outputs": [],
   "source": [
    "from sklearn.linear.model import LinearRegression\n",
    "regression = LinearRegression()\n",
    "regression.fit(X_train,y_train)"
   ]
  },
  {
   "cell_type": "code",
   "execution_count": null,
   "id": "9b04b19a",
   "metadata": {},
   "outputs": [],
   "source": [
    "y_pred = regression.predict(X_test)\n",
    "y_pred"
   ]
  },
  {
   "cell_type": "code",
   "execution_count": null,
   "id": "097925c5",
   "metadata": {},
   "outputs": [],
   "source": [
    "accuracy_score = regression.score(X_test,y_test)\n",
    "accuracy_store"
   ]
  },
  {
   "cell_type": "code",
   "execution_count": null,
   "id": "0e6dd4da",
   "metadata": {},
   "outputs": [],
   "source": [
    "regression.coef_"
   ]
  },
  {
   "cell_type": "code",
   "execution_count": null,
   "id": "bb8a9a26",
   "metadata": {},
   "outputs": [],
   "source": [
    "# What is the equation for this model?\n",
    "# x1 = 0.53x2 + 5.18x5"
   ]
  },
  {
   "cell_type": "markdown",
   "id": "27769a91",
   "metadata": {},
   "source": [
    "# OLS Regression\n",
    "\n",
    "OLS (ordinary least squares) regression is a type of linear regression that lets you handle interactions as well as features that don't have interactions. With OLS regression, you can incoportae features that are correlated with each other."
   ]
  },
  {
   "cell_type": "code",
   "execution_count": null,
   "id": "d0435f58",
   "metadata": {},
   "outputs": [],
   "source": [
    "# pip3 install statsmodels\n",
    "from statsmodels"
   ]
  },
  {
   "cell_type": "code",
   "execution_count": null,
   "id": "b21ca9a5",
   "metadata": {},
   "outputs": [],
   "source": [
    "diabetes_df['Outcome'].value_counts()"
   ]
  },
  {
   "cell_type": "code",
   "execution_count": null,
   "id": "0c3d7a74",
   "metadata": {},
   "outputs": [],
   "source": [
    "diabetes_vs_glucose = ols('Outcome - Glucose',data=diabetes,df).fit()\n",
    "print(diabetes_vs_glucose.perams)\n",
    "interpret.slope = diabetes_vs_glucose.perams\n",
    "# Outcome = 0.492 + 0.006glucose"
   ]
  },
  {
   "cell_type": "code",
   "execution_count": null,
   "id": "1243a56c",
   "metadata": {},
   "outputs": [],
   "source": [
    "sns.scatterplot(x=glucose,\n",
    "                y=oucome,\n",
    "               data=diabetes_df)\n",
    "plt.axline(xy1=0,intercept)"
   ]
  },
  {
   "cell_type": "code",
   "execution_count": 1,
   "id": "524a68f3",
   "metadata": {},
   "outputs": [],
   "source": [
    "# OLS regression is not the answer for modelling this dataset \n",
    "# because the outcomes are binary and OLS works best whe we have a gradient\n",
    "# of outcomes we're trying to predict (continuous data).\n",
    "# But we can use logistic regression to predict binary outcomes"
   ]
  },
  {
   "cell_type": "code",
   "execution_count": null,
   "id": "ccd4779f",
   "metadata": {},
   "outputs": [],
   "source": [
    "# these are just sample of how the code works\n",
    "# the outcomes are meaningless\n",
    "# no interaction - low or no correlation between perams used to predict outcome\n",
    "age_gl_no_int = ols('Outcome-Age-Glucose',data=diabetes_df).fit()\n",
    "print(age_gl_no_int.prerams)\n",
    "# Outcome = -0.6 + 0.005age + 0.006glucose"
   ]
  },
  {
   "cell_type": "code",
   "execution_count": null,
   "id": "57c10ec1",
   "metadata": {},
   "outputs": [],
   "source": [
    "# no interaction - low or no correlation between perams used to predict outcome\n",
    "age_gl_no_int = ols('Outcome-Age-Glucose',data=diabetes_df).fit()\n",
    "print(age_gl_no_int.prerams)\n",
    "# Outcome = ... -0.002*Age*Glucose"
   ]
  }
 ],
 "metadata": {
  "kernelspec": {
   "display_name": "Python 3 (ipykernel)",
   "language": "python",
   "name": "python3"
  },
  "language_info": {
   "codemirror_mode": {
    "name": "ipython",
    "version": 3
   },
   "file_extension": ".py",
   "mimetype": "text/x-python",
   "name": "python",
   "nbconvert_exporter": "python",
   "pygments_lexer": "ipython3",
   "version": "3.11.2"
  }
 },
 "nbformat": 4,
 "nbformat_minor": 5
}
