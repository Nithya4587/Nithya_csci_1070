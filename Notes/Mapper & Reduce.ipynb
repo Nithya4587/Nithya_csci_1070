{
 "cells": [
  {
   "cell_type": "markdown",
   "id": "9acd495f",
   "metadata": {},
   "source": [
    "# Warm-Up: 4/15/24"
   ]
  },
  {
   "cell_type": "markdown",
   "id": "cddfad87",
   "metadata": {},
   "source": [
    "Q. Write a function that does the following: Given a list of integers, return indices of the two numbers such that they add up to a specific target.\n",
    "Assume that each input would have exactly one solution, and you may not use the same element twice.\n",
    "\n",
    "Input: nums = [2, 7, 11, 15], target = 9\n",
    "\n",
    "Output: [0, 1] (because nums[0] + nums[1] = 2 + 7 = 9)"
   ]
  },
  {
   "cell_type": "code",
   "execution_count": 3,
   "id": "42633a3c",
   "metadata": {},
   "outputs": [
    {
     "data": {
      "text/plain": [
       "[{2, 4}, {2, 4}]"
      ]
     },
     "execution_count": 3,
     "metadata": {},
     "output_type": "execute_result"
    }
   ],
   "source": [
    "TEST_LIST = [2,4,7,9]\n",
    "\n",
    "def target_num_list_sum (LIST: list,TARGET: int) -> int:\n",
    "    \"\"\"Function that finds the locations of ints so that the sum equals the target int\"\"\"\n",
    "    int_positions = []\n",
    "    \n",
    "    for x,y in enumerate(LIST):\n",
    "        for z in LIST:\n",
    "            if TARGET-y == z:\n",
    "                int_positions.append({z,y})\n",
    "    return(int_positions)\n",
    "target_num_list_sum(TEST_LIST,6)"
   ]
  },
  {
   "cell_type": "markdown",
   "id": "be586ad4",
   "metadata": {},
   "source": [
    "# Has to be in VS Code, so maybe switch this later as jupyter doesn't allow for packages. SET UP VS CODE"
   ]
  },
  {
   "cell_type": "markdown",
   "id": "daca4e52",
   "metadata": {},
   "source": [
    "# Mapper"
   ]
  },
  {
   "cell_type": "code",
   "execution_count": 4,
   "id": "ed8c635a",
   "metadata": {},
   "outputs": [],
   "source": [
    "#!/usr/bin/env python\n",
    "import sys\n",
    "\n",
    "def mapper():\n",
    "    \"\"\"\n",
    "    Reads in a sentence and maps the values\n",
    "    \"\"\"\n",
    "    # stdin = standard input\n",
    "    for line in sys.stdin:\n",
    "        \n",
    "        #strip write space at the beginning\n",
    "        #and end of line\n",
    "        line = line.strip()\n",
    "        \n",
    "        #split the line into words\n",
    "        words = line.split()\n",
    "        \n",
    "        # process each word and assign\n",
    "        # a value of 1 to each word\n",
    "        for word in words:\n",
    "            print(words+\"\\t1\")\n",
    "            \n",
    "if __name__==\"__+main__\":\n",
    "    mapper()"
   ]
  },
  {
   "cell_type": "markdown",
   "id": "4b98b259",
   "metadata": {},
   "source": [
    "# Reduce"
   ]
  },
  {
   "cell_type": "code",
   "execution_count": 9,
   "id": "745297f3",
   "metadata": {},
   "outputs": [
    {
     "ename": "SyntaxError",
     "evalue": "invalid syntax. Maybe you meant '==' or ':=' instead of '='? (2361060945.py, line 18)",
     "output_type": "error",
     "traceback": [
      "\u001b[0;36m  Cell \u001b[0;32mIn [9], line 18\u001b[0;36m\u001b[0m\n\u001b[0;31m    if current_count = word:\u001b[0m\n\u001b[0m       ^\u001b[0m\n\u001b[0;31mSyntaxError\u001b[0m\u001b[0;31m:\u001b[0m invalid syntax. Maybe you meant '==' or ':=' instead of '='?\n"
     ]
    }
   ],
   "source": [
    "#!/usr/bin/env python3\n",
    "import sys\n",
    "\n",
    "def reduce_mapped():\n",
    "    \"\"\"\n",
    "    Reduce mapped values\n",
    "    \"\"\"\n",
    "    current_word = None\n",
    "    current_count = 0\n",
    "    \n",
    "    #Loop through lines passeed in from mapper.py program\n",
    "    for line in sys.stdin:\n",
    "        line = line.strip()\n",
    "        word, count = line.split(\"\\t\",1)\n",
    "        \n",
    "        count = int(count)\n",
    "        \n",
    "        if current_count = word:\n",
    "            current_count += count\n",
    "            \n",
    "        else:\n",
    "            #if there is a current word and its not none\n",
    "            if current_word:\n",
    "                print(current_word + '\\t' + str(current_count))\n",
    "            current_count = count\n",
    "            current_word = word\n",
    "            \n",
    "    if current_word = word:\n",
    "        print(current_word+ \"\\t\"+str(current_count))\n",
    "if__name__==\"__+main__\":\n",
    "    reduce.mapped()"
   ]
  },
  {
   "cell_type": "code",
   "execution_count": null,
   "id": "54c168d3",
   "metadata": {},
   "outputs": [],
   "source": []
  }
 ],
 "metadata": {
  "kernelspec": {
   "display_name": "Python 3 (ipykernel)",
   "language": "python",
   "name": "python3"
  },
  "language_info": {
   "codemirror_mode": {
    "name": "ipython",
    "version": 3
   },
   "file_extension": ".py",
   "mimetype": "text/x-python",
   "name": "python",
   "nbconvert_exporter": "python",
   "pygments_lexer": "ipython3",
   "version": "3.11.2"
  }
 },
 "nbformat": 4,
 "nbformat_minor": 5
}
