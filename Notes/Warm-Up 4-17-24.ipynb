{
 "cells": [
  {
   "cell_type": "markdown",
   "id": "0dff557e",
   "metadata": {},
   "source": [
    "# Warm-Up - 4/17/24\n",
    "\n",
    "Write a function that takes in any word and counts the number of consonants and vowels and returns the each as:\n",
    "\n",
    "consonants, vowels = extract_consonants_vowels(word)"
   ]
  },
  {
   "cell_type": "code",
   "execution_count": 3,
   "id": "3e5ae571",
   "metadata": {},
   "outputs": [
    {
     "name": "stdout",
     "output_type": "stream",
     "text": [
      "Vowels: 2, Consonants: 3\n"
     ]
    }
   ],
   "source": [
    "def vowels_and_consonants(word):\n",
    "    vowels = 'aeiouAEIOU'\n",
    "    consonants = 'bcdfghjklmnpqrstvwxyzBCDFGHJKLMNPQRSTVWXYZ'\n",
    "    \n",
    "    vowel_count = sum(1 for char in word if char in vowels)\n",
    "    consonant_count = sum(1 for char in word if char in consonants)\n",
    "    \n",
    "    return vowel_count, consonant_count\n",
    "\n",
    "word = \"Hello\"\n",
    "vowels, consonants = vowels_and_consonants(word)\n",
    "print(f\"Vowels: {vowels}, Consonants: {consonants}\")"
   ]
  },
  {
   "cell_type": "code",
   "execution_count": 5,
   "id": "4db00dc5",
   "metadata": {},
   "outputs": [
    {
     "name": "stdout",
     "output_type": "stream",
     "text": [
      "4\n",
      "3\n"
     ]
    }
   ],
   "source": [
    "# Brady Example\n",
    "\n",
    "def extract_consonant_vowels(word):\n",
    "    vowels = 'aeiou'\n",
    "    consonants = 0\n",
    "    vowels_count = 0\n",
    "    \n",
    "    for char in word:\n",
    "        if char.isalpha():\n",
    "            if char.lower() in vowels:\n",
    "                vowels_count += 1\n",
    "            else:\n",
    "                consonants += 1\n",
    "                \n",
    "    return consonants, vowels_count\n",
    "\n",
    "word='Cheetah'\n",
    "consonants, vowels = extract_consonant_vowels(word)\n",
    "print(consonants)\n",
    "print(vowels)"
   ]
  },
  {
   "cell_type": "code",
   "execution_count": null,
   "id": "4583267c",
   "metadata": {},
   "outputs": [],
   "source": []
  }
 ],
 "metadata": {
  "kernelspec": {
   "display_name": "Python 3 (ipykernel)",
   "language": "python",
   "name": "python3"
  },
  "language_info": {
   "codemirror_mode": {
    "name": "ipython",
    "version": 3
   },
   "file_extension": ".py",
   "mimetype": "text/x-python",
   "name": "python",
   "nbconvert_exporter": "python",
   "pygments_lexer": "ipython3",
   "version": "3.11.2"
  }
 },
 "nbformat": 4,
 "nbformat_minor": 5
}
