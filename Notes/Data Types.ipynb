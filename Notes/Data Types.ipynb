{
 "cells": [
  {
   "cell_type": "code",
   "execution_count": 9,
   "id": "d0fff1bd",
   "metadata": {},
   "outputs": [],
   "source": [
    "#to run cells, you can press shift-enter on windows or command enter on mac\n",
    "# to get hints on a function, put you cursor in the function and press shift-tab\n",
    "\n",
    "x = 5 # integer\n",
    "y = 5.0 #float/floating point"
   ]
  },
  {
   "cell_type": "code",
   "execution_count": 12,
   "id": "675c9e85",
   "metadata": {},
   "outputs": [
    {
     "name": "stdout",
     "output_type": "stream",
     "text": [
      "5\n"
     ]
    }
   ],
   "source": [
    "print(x)"
   ]
  },
  {
   "cell_type": "code",
   "execution_count": 10,
   "id": "71b79e55",
   "metadata": {},
   "outputs": [
    {
     "name": "stdout",
     "output_type": "stream",
     "text": [
      "<class 'int'>\n"
     ]
    }
   ],
   "source": [
    "print(type(x)"
   ]
  },
  {
   "cell_type": "code",
   "execution_count": 11,
   "id": "1f19a666",
   "metadata": {},
   "outputs": [
    {
     "data": {
      "text/plain": [
       "float"
      ]
     },
     "execution_count": 11,
     "metadata": {},
     "output_type": "execute_result"
    }
   ],
   "source": [
    "type(y)"
   ]
  },
  {
   "cell_type": "code",
   "execution_count": 7,
   "id": "8308cbeb",
   "metadata": {},
   "outputs": [],
   "source": [
    "# Dictionaries are key:value pairs\n",
    "breakfast = {\"waffles\":40,\n",
    "            \"eggs\":60,\n",
    "            \"cereal\":1}"
   ]
  },
  {
   "cell_type": "code",
   "execution_count": 16,
   "id": "ec77d786",
   "metadata": {},
   "outputs": [
    {
     "name": "stdout",
     "output_type": "stream",
     "text": [
      "60\n"
     ]
    }
   ],
   "source": [
    "print(breakfast[\"eggs\"])"
   ]
  },
  {
   "cell_type": "code",
   "execution_count": 5,
   "id": "ec7e899e",
   "metadata": {},
   "outputs": [
    {
     "data": {
      "text/plain": [
       "bool"
      ]
     },
     "execution_count": 5,
     "metadata": {},
     "output_type": "execute_result"
    }
   ],
   "source": [
    "# Booleans are true or false values\n",
    "is_true = False\n",
    "type(is_true)"
   ]
  },
  {
   "cell_type": "code",
   "execution_count": 14,
   "id": "1b4ba90f",
   "metadata": {},
   "outputs": [
    {
     "name": "stdout",
     "output_type": "stream",
     "text": [
      "{'coffee', 'bacon', 'eggs'}\n"
     ]
    }
   ],
   "source": [
    "# Sets have unodered values and unchangeable values (immutable)\n",
    "breakfast_set = {\"eggs\",\"bacon\"}\n",
    "# Sets cannot have duplicates. So, you cannot add something thats already there.\n",
    "breakfast_set.add(\"coffee\")\n",
    "print(breakfast_set)"
   ]
  },
  {
   "cell_type": "code",
   "execution_count": 15,
   "id": "daddb18f",
   "metadata": {},
   "outputs": [
    {
     "data": {
      "text/plain": [
       "'March'"
      ]
     },
     "execution_count": 15,
     "metadata": {},
     "output_type": "execute_result"
    }
   ],
   "source": [
    "# List values can be changed and they are ordered\n",
    "months = [\"January\", \"February\", \"March\"]\n",
    "months[2]"
   ]
  },
  {
   "cell_type": "code",
   "execution_count": 1,
   "id": "69e32059",
   "metadata": {},
   "outputs": [
    {
     "data": {
      "text/plain": [
       "'coffee'"
      ]
     },
     "execution_count": 1,
     "metadata": {},
     "output_type": "execute_result"
    }
   ],
   "source": [
    "# Tuples are ordered but unchangeable (immutable)\n",
    "breakfast_tuple = (\"coffee\",\"bagels\",\"cereal\")\n",
    "breakfast_tuple[0]"
   ]
  },
  {
   "cell_type": "code",
   "execution_count": 13,
   "id": "21107a60",
   "metadata": {},
   "outputs": [
    {
     "name": "stdout",
     "output_type": "stream",
     "text": [
      "3\n"
     ]
    }
   ],
   "source": [
    "print(len(breakfast_tuple)) # length is 3 because there are 3 items, but we start counting at 0"
   ]
  },
  {
   "cell_type": "code",
   "execution_count": 19,
   "id": "24abfa3c",
   "metadata": {},
   "outputs": [
    {
     "name": "stdout",
     "output_type": "stream",
     "text": [
      "('a', 'b')\n"
     ]
    }
   ],
   "source": [
    "# slicing slice(start, end, step)\n",
    "letters_tuple = (\"a\",\"b\",\"c\",\"d\",\"e\")\n",
    "x = slice(0,2) #slice(2) is the same\n",
    "print(letters_tuple[x])"
   ]
  },
  {
   "cell_type": "code",
   "execution_count": 20,
   "id": "512dfe62",
   "metadata": {},
   "outputs": [
    {
     "data": {
      "text/plain": [
       "('a', 'b')"
      ]
     },
     "execution_count": 20,
     "metadata": {},
     "output_type": "execute_result"
    }
   ],
   "source": [
    "letters_tuple[0:2]"
   ]
  },
  {
   "cell_type": "code",
   "execution_count": 39,
   "id": "c484d686",
   "metadata": {},
   "outputs": [
    {
     "name": "stdout",
     "output_type": "stream",
     "text": [
      "('a', 'c', 'e')\n"
     ]
    }
   ],
   "source": [
    "# use slice to return a, c, and e\n",
    "# the end value is \"exclusive\" which means 0-5 does not include the 5 itself.\n",
    "# slice (inclusive start, exclusive end, step)\n",
    "y = slice(0,5,2)\n",
    "print(letters_tuple[y])"
   ]
  },
  {
   "cell_type": "code",
   "execution_count": null,
   "id": "fc220a2a",
   "metadata": {},
   "outputs": [],
   "source": []
  }
 ],
 "metadata": {
  "kernelspec": {
   "display_name": "Python 3 (ipykernel)",
   "language": "python",
   "name": "python3"
  },
  "language_info": {
   "codemirror_mode": {
    "name": "ipython",
    "version": 3
   },
   "file_extension": ".py",
   "mimetype": "text/x-python",
   "name": "python",
   "nbconvert_exporter": "python",
   "pygments_lexer": "ipython3",
   "version": "3.11.2"
  }
 },
 "nbformat": 4,
 "nbformat_minor": 5
}
