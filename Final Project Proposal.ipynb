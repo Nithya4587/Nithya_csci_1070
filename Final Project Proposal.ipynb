{
 "cells": [
  {
   "cell_type": "markdown",
   "id": "2b6fa679",
   "metadata": {},
   "source": [
    "1. I am working with Bandar Aldhahri. Our plan for working on this for 20 days so that we have enough time to make changes if needed and sort everything out. We will coordinate through messages and meet up accordingly. We are going to start by cleaning the dataset, then running models and analysis, finally determining whether our alternate hypothesis is correct or not.\n",
    "\n",
    "2. We are using the Crimes in Vancouver dataset from Kaggle: https://www.kaggle.com/datasets/wosaku/crime-in-vancouver\n",
    "\n",
    "3. Null Hypothesis: For the dataset, Crimes in Vancouver, there will be no difference in the crime rates between different neighbourhoods.\n",
    "Alternate Hypothesis: For the dataset, Crimes in Vancouver, there will be a difference in the crime rates between different neighbourhoods.\n",
    "\n",
    "4. We plan to use a pie chart, bar chart, histogram, KNN, and Multiple Linear Regression"
   ]
  }
 ],
 "metadata": {
  "kernelspec": {
   "display_name": "Python 3 (ipykernel)",
   "language": "python",
   "name": "python3"
  },
  "language_info": {
   "codemirror_mode": {
    "name": "ipython",
    "version": 3
   },
   "file_extension": ".py",
   "mimetype": "text/x-python",
   "name": "python",
   "nbconvert_exporter": "python",
   "pygments_lexer": "ipython3",
   "version": "3.11.2"
  }
 },
 "nbformat": 4,
 "nbformat_minor": 5
}
