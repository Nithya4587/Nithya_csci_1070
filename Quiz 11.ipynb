{
 "cells": [
  {
   "cell_type": "code",
   "execution_count": 4,
   "id": "98f4c908",
   "metadata": {},
   "outputs": [
    {
     "name": "stdout",
     "output_type": "stream",
     "text": [
      "['a', 'b']\n"
     ]
    }
   ],
   "source": [
    "# 1\n",
    "\n",
    "def numeric_filter(lst):\n",
    "    new_list = [x for x in lst if not isinstance(x, (int, float))]\n",
    "    return new_list\n",
    "x = [1,2,'a','b',7.6]\n",
    "new_list = numeric_filter(x)\n",
    "print(new_list)"
   ]
  },
  {
   "cell_type": "code",
   "execution_count": 15,
   "id": "72d04d2d",
   "metadata": {},
   "outputs": [
    {
     "name": "stdout",
     "output_type": "stream",
     "text": [
      "1\n",
      "2 fizz\n",
      "3\n",
      "4 fizz\n",
      "5 buzz\n",
      "6 fizz\n",
      "7\n",
      "8 fizz\n",
      "9\n",
      "10 fizzbuzz\n"
     ]
    }
   ],
   "source": [
    "#2\n",
    "\n",
    "def number(a:int) -> List[int]:\n",
    "    \"\"\"Function that labels FizzBuzz to int in a certain range of values\"\"\"\n",
    "    count = 1;\n",
    "    while (count<=a):\n",
    "        if (count%2==0 and count%5==0):\n",
    "            print(count, 'fizzbuzz');\n",
    "        elif(count%2==0):\n",
    "            print(count,'fizz');\n",
    "        elif(count%5==0):\n",
    "            print(count,'buzz');\n",
    "        else:\n",
    "            print(count)\n",
    "        count+=1;\n",
    "\n",
    "# Print with int value for FizzBuzz values\n",
    "number(10)"
   ]
  }
 ],
 "metadata": {
  "kernelspec": {
   "display_name": "Python 3 (ipykernel)",
   "language": "python",
   "name": "python3"
  },
  "language_info": {
   "codemirror_mode": {
    "name": "ipython",
    "version": 3
   },
   "file_extension": ".py",
   "mimetype": "text/x-python",
   "name": "python",
   "nbconvert_exporter": "python",
   "pygments_lexer": "ipython3",
   "version": "3.11.2"
  }
 },
 "nbformat": 4,
 "nbformat_minor": 5
}
